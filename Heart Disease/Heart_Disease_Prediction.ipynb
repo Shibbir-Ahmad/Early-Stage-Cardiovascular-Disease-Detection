{
  "cells": [
    {
      "cell_type": "markdown",
      "id": "1c751387",
      "metadata": {
        "id": "1c751387"
      },
      "source": [
        "## Heart Disease Prediction"
      ]
    },
    {
      "cell_type": "code",
      "execution_count": 537,
      "id": "40b08abf",
      "metadata": {
        "id": "40b08abf"
      },
      "outputs": [],
      "source": [
        "# import required library\n",
        "import numpy as np\n",
        "import pandas as pd\n",
        "import matplotlib.pyplot as plt\n",
        "import seaborn as sns\n",
        "\n",
        "%matplotlib inline"
      ]
    },
    {
      "cell_type": "code",
      "execution_count": 538,
      "id": "b7a5241a",
      "metadata": {
        "id": "b7a5241a"
      },
      "outputs": [],
      "source": [
        "# Import Machine Learning Algorithms\n",
        "from sklearn.ensemble import RandomForestClassifier\n",
        "from sklearn.linear_model import LogisticRegression\n",
        "from sklearn.svm import SVC\n",
        "\n",
        "\n",
        "# To split the dataset\n",
        "from sklearn.model_selection import train_test_split\n",
        "\n",
        "# To find optimum parameters for the model\n",
        "from sklearn.model_selection import RandomizedSearchCV\n",
        "\n",
        "# To find optimum features\n",
        "from sklearn.feature_selection import SelectKBest\n",
        "from sklearn.feature_selection import chi2\n",
        "\n",
        "# import cross validation library\n",
        "from sklearn.model_selection import cross_val_score,KFold\n",
        "\n",
        "# For evaluating the models\n",
        "from sklearn import metrics\n",
        "\n",
        "from sklearn.metrics import roc_curve\n",
        "from sklearn.metrics import roc_auc_score\n"
      ]
    },
    {
      "cell_type": "code",
      "source": [
        "from google.colab import drive\n",
        "drive.mount('/content/drive/')"
      ],
      "metadata": {
        "id": "5jrP5VxdbRT1",
        "colab": {
          "base_uri": "https://localhost:8080/"
        },
        "outputId": "bb6c2e2a-ac84-44cf-d468-d7aa87743a2e"
      },
      "id": "5jrP5VxdbRT1",
      "execution_count": 539,
      "outputs": [
        {
          "output_type": "stream",
          "name": "stdout",
          "text": [
            "Drive already mounted at /content/drive/; to attempt to forcibly remount, call drive.mount(\"/content/drive/\", force_remount=True).\n"
          ]
        }
      ]
    },
    {
      "cell_type": "code",
      "execution_count": 540,
      "id": "e2c5c25e",
      "metadata": {
        "id": "e2c5c25e"
      },
      "outputs": [],
      "source": [
        "# loading dataset\n",
        "df =pd.read_csv(\"/content/drive/MyDrive/Dataset/ML.csv\")"
      ]
    },
    {
      "cell_type": "code",
      "execution_count": 541,
      "id": "15937833",
      "metadata": {
        "colab": {
          "base_uri": "https://localhost:8080/",
          "height": 206
        },
        "id": "15937833",
        "outputId": "2dd56472-d2dc-4597-843b-1b9a57cfba63"
      },
      "outputs": [
        {
          "output_type": "execute_result",
          "data": {
            "text/plain": [
              "   age  sex  bps1  bps2  pp  fbs  hr  cp  chol  exng  sob  trn  restecg   \\\n",
              "0   55    0   160   100  60    0  92   1     1     1    1    1         1   \n",
              "1   55    0   130    90  40    0  96   1     1     1    1    1         1   \n",
              "2   69    0   160    90  70    0  98   1     1     1    1    1         1   \n",
              "3   35    0   100    60  40    0  82   1     1     1    1    1         1   \n",
              "4   70    0   110    70  40    0  98   1     1     1    1    1         1   \n",
              "\n",
              "   target  \n",
              "0       1  \n",
              "1       1  \n",
              "2       1  \n",
              "3       1  \n",
              "4       1  "
            ],
            "text/html": [
              "\n",
              "  <div id=\"df-ffee4a84-b85d-4fe4-b062-e8f032d7a013\">\n",
              "    <div class=\"colab-df-container\">\n",
              "      <div>\n",
              "<style scoped>\n",
              "    .dataframe tbody tr th:only-of-type {\n",
              "        vertical-align: middle;\n",
              "    }\n",
              "\n",
              "    .dataframe tbody tr th {\n",
              "        vertical-align: top;\n",
              "    }\n",
              "\n",
              "    .dataframe thead th {\n",
              "        text-align: right;\n",
              "    }\n",
              "</style>\n",
              "<table border=\"1\" class=\"dataframe\">\n",
              "  <thead>\n",
              "    <tr style=\"text-align: right;\">\n",
              "      <th></th>\n",
              "      <th>age</th>\n",
              "      <th>sex</th>\n",
              "      <th>bps1</th>\n",
              "      <th>bps2</th>\n",
              "      <th>pp</th>\n",
              "      <th>fbs</th>\n",
              "      <th>hr</th>\n",
              "      <th>cp</th>\n",
              "      <th>chol</th>\n",
              "      <th>exng</th>\n",
              "      <th>sob</th>\n",
              "      <th>trn</th>\n",
              "      <th>restecg</th>\n",
              "      <th>target</th>\n",
              "    </tr>\n",
              "  </thead>\n",
              "  <tbody>\n",
              "    <tr>\n",
              "      <th>0</th>\n",
              "      <td>55</td>\n",
              "      <td>0</td>\n",
              "      <td>160</td>\n",
              "      <td>100</td>\n",
              "      <td>60</td>\n",
              "      <td>0</td>\n",
              "      <td>92</td>\n",
              "      <td>1</td>\n",
              "      <td>1</td>\n",
              "      <td>1</td>\n",
              "      <td>1</td>\n",
              "      <td>1</td>\n",
              "      <td>1</td>\n",
              "      <td>1</td>\n",
              "    </tr>\n",
              "    <tr>\n",
              "      <th>1</th>\n",
              "      <td>55</td>\n",
              "      <td>0</td>\n",
              "      <td>130</td>\n",
              "      <td>90</td>\n",
              "      <td>40</td>\n",
              "      <td>0</td>\n",
              "      <td>96</td>\n",
              "      <td>1</td>\n",
              "      <td>1</td>\n",
              "      <td>1</td>\n",
              "      <td>1</td>\n",
              "      <td>1</td>\n",
              "      <td>1</td>\n",
              "      <td>1</td>\n",
              "    </tr>\n",
              "    <tr>\n",
              "      <th>2</th>\n",
              "      <td>69</td>\n",
              "      <td>0</td>\n",
              "      <td>160</td>\n",
              "      <td>90</td>\n",
              "      <td>70</td>\n",
              "      <td>0</td>\n",
              "      <td>98</td>\n",
              "      <td>1</td>\n",
              "      <td>1</td>\n",
              "      <td>1</td>\n",
              "      <td>1</td>\n",
              "      <td>1</td>\n",
              "      <td>1</td>\n",
              "      <td>1</td>\n",
              "    </tr>\n",
              "    <tr>\n",
              "      <th>3</th>\n",
              "      <td>35</td>\n",
              "      <td>0</td>\n",
              "      <td>100</td>\n",
              "      <td>60</td>\n",
              "      <td>40</td>\n",
              "      <td>0</td>\n",
              "      <td>82</td>\n",
              "      <td>1</td>\n",
              "      <td>1</td>\n",
              "      <td>1</td>\n",
              "      <td>1</td>\n",
              "      <td>1</td>\n",
              "      <td>1</td>\n",
              "      <td>1</td>\n",
              "    </tr>\n",
              "    <tr>\n",
              "      <th>4</th>\n",
              "      <td>70</td>\n",
              "      <td>0</td>\n",
              "      <td>110</td>\n",
              "      <td>70</td>\n",
              "      <td>40</td>\n",
              "      <td>0</td>\n",
              "      <td>98</td>\n",
              "      <td>1</td>\n",
              "      <td>1</td>\n",
              "      <td>1</td>\n",
              "      <td>1</td>\n",
              "      <td>1</td>\n",
              "      <td>1</td>\n",
              "      <td>1</td>\n",
              "    </tr>\n",
              "  </tbody>\n",
              "</table>\n",
              "</div>\n",
              "      <button class=\"colab-df-convert\" onclick=\"convertToInteractive('df-ffee4a84-b85d-4fe4-b062-e8f032d7a013')\"\n",
              "              title=\"Convert this dataframe to an interactive table.\"\n",
              "              style=\"display:none;\">\n",
              "        \n",
              "  <svg xmlns=\"http://www.w3.org/2000/svg\" height=\"24px\"viewBox=\"0 0 24 24\"\n",
              "       width=\"24px\">\n",
              "    <path d=\"M0 0h24v24H0V0z\" fill=\"none\"/>\n",
              "    <path d=\"M18.56 5.44l.94 2.06.94-2.06 2.06-.94-2.06-.94-.94-2.06-.94 2.06-2.06.94zm-11 1L8.5 8.5l.94-2.06 2.06-.94-2.06-.94L8.5 2.5l-.94 2.06-2.06.94zm10 10l.94 2.06.94-2.06 2.06-.94-2.06-.94-.94-2.06-.94 2.06-2.06.94z\"/><path d=\"M17.41 7.96l-1.37-1.37c-.4-.4-.92-.59-1.43-.59-.52 0-1.04.2-1.43.59L10.3 9.45l-7.72 7.72c-.78.78-.78 2.05 0 2.83L4 21.41c.39.39.9.59 1.41.59.51 0 1.02-.2 1.41-.59l7.78-7.78 2.81-2.81c.8-.78.8-2.07 0-2.86zM5.41 20L4 18.59l7.72-7.72 1.47 1.35L5.41 20z\"/>\n",
              "  </svg>\n",
              "      </button>\n",
              "      \n",
              "  <style>\n",
              "    .colab-df-container {\n",
              "      display:flex;\n",
              "      flex-wrap:wrap;\n",
              "      gap: 12px;\n",
              "    }\n",
              "\n",
              "    .colab-df-convert {\n",
              "      background-color: #E8F0FE;\n",
              "      border: none;\n",
              "      border-radius: 50%;\n",
              "      cursor: pointer;\n",
              "      display: none;\n",
              "      fill: #1967D2;\n",
              "      height: 32px;\n",
              "      padding: 0 0 0 0;\n",
              "      width: 32px;\n",
              "    }\n",
              "\n",
              "    .colab-df-convert:hover {\n",
              "      background-color: #E2EBFA;\n",
              "      box-shadow: 0px 1px 2px rgba(60, 64, 67, 0.3), 0px 1px 3px 1px rgba(60, 64, 67, 0.15);\n",
              "      fill: #174EA6;\n",
              "    }\n",
              "\n",
              "    [theme=dark] .colab-df-convert {\n",
              "      background-color: #3B4455;\n",
              "      fill: #D2E3FC;\n",
              "    }\n",
              "\n",
              "    [theme=dark] .colab-df-convert:hover {\n",
              "      background-color: #434B5C;\n",
              "      box-shadow: 0px 1px 3px 1px rgba(0, 0, 0, 0.15);\n",
              "      filter: drop-shadow(0px 1px 2px rgba(0, 0, 0, 0.3));\n",
              "      fill: #FFFFFF;\n",
              "    }\n",
              "  </style>\n",
              "\n",
              "      <script>\n",
              "        const buttonEl =\n",
              "          document.querySelector('#df-ffee4a84-b85d-4fe4-b062-e8f032d7a013 button.colab-df-convert');\n",
              "        buttonEl.style.display =\n",
              "          google.colab.kernel.accessAllowed ? 'block' : 'none';\n",
              "\n",
              "        async function convertToInteractive(key) {\n",
              "          const element = document.querySelector('#df-ffee4a84-b85d-4fe4-b062-e8f032d7a013');\n",
              "          const dataTable =\n",
              "            await google.colab.kernel.invokeFunction('convertToInteractive',\n",
              "                                                     [key], {});\n",
              "          if (!dataTable) return;\n",
              "\n",
              "          const docLinkHtml = 'Like what you see? Visit the ' +\n",
              "            '<a target=\"_blank\" href=https://colab.research.google.com/notebooks/data_table.ipynb>data table notebook</a>'\n",
              "            + ' to learn more about interactive tables.';\n",
              "          element.innerHTML = '';\n",
              "          dataTable['output_type'] = 'display_data';\n",
              "          await google.colab.output.renderOutput(dataTable, element);\n",
              "          const docLink = document.createElement('div');\n",
              "          docLink.innerHTML = docLinkHtml;\n",
              "          element.appendChild(docLink);\n",
              "        }\n",
              "      </script>\n",
              "    </div>\n",
              "  </div>\n",
              "  "
            ]
          },
          "metadata": {},
          "execution_count": 541
        }
      ],
      "source": [
        "# view top 5 rows of the dataset\n",
        "df.head()"
      ]
    },
    {
      "cell_type": "code",
      "execution_count": 542,
      "id": "aa9de0d8",
      "metadata": {
        "colab": {
          "base_uri": "https://localhost:8080/",
          "height": 206
        },
        "id": "aa9de0d8",
        "outputId": "130201e2-463d-4040-fa36-7d9e02cff264"
      },
      "outputs": [
        {
          "output_type": "execute_result",
          "data": {
            "text/plain": [
              "     age  sex  bps1  bps2  pp  fbs  hr  cp  chol  exng  sob  trn  restecg   \\\n",
              "295   51    1   120    90  30    1  98   1     0     0    1    0         1   \n",
              "296   56    0   140    85  55    0  72   1     0     1    1    0         0   \n",
              "297   75    1   140    70  70    0  97   1     0     1    1    0         1   \n",
              "298   45    1   120    80  40    0  72   0     1     1    1    1         1   \n",
              "299   67    1   120    70  50    0  88   0     1     1    1    0         1   \n",
              "\n",
              "     target  \n",
              "295       1  \n",
              "296       0  \n",
              "297       1  \n",
              "298       1  \n",
              "299       1  "
            ],
            "text/html": [
              "\n",
              "  <div id=\"df-97ca1637-a230-4aba-affc-65558dde3e30\">\n",
              "    <div class=\"colab-df-container\">\n",
              "      <div>\n",
              "<style scoped>\n",
              "    .dataframe tbody tr th:only-of-type {\n",
              "        vertical-align: middle;\n",
              "    }\n",
              "\n",
              "    .dataframe tbody tr th {\n",
              "        vertical-align: top;\n",
              "    }\n",
              "\n",
              "    .dataframe thead th {\n",
              "        text-align: right;\n",
              "    }\n",
              "</style>\n",
              "<table border=\"1\" class=\"dataframe\">\n",
              "  <thead>\n",
              "    <tr style=\"text-align: right;\">\n",
              "      <th></th>\n",
              "      <th>age</th>\n",
              "      <th>sex</th>\n",
              "      <th>bps1</th>\n",
              "      <th>bps2</th>\n",
              "      <th>pp</th>\n",
              "      <th>fbs</th>\n",
              "      <th>hr</th>\n",
              "      <th>cp</th>\n",
              "      <th>chol</th>\n",
              "      <th>exng</th>\n",
              "      <th>sob</th>\n",
              "      <th>trn</th>\n",
              "      <th>restecg</th>\n",
              "      <th>target</th>\n",
              "    </tr>\n",
              "  </thead>\n",
              "  <tbody>\n",
              "    <tr>\n",
              "      <th>295</th>\n",
              "      <td>51</td>\n",
              "      <td>1</td>\n",
              "      <td>120</td>\n",
              "      <td>90</td>\n",
              "      <td>30</td>\n",
              "      <td>1</td>\n",
              "      <td>98</td>\n",
              "      <td>1</td>\n",
              "      <td>0</td>\n",
              "      <td>0</td>\n",
              "      <td>1</td>\n",
              "      <td>0</td>\n",
              "      <td>1</td>\n",
              "      <td>1</td>\n",
              "    </tr>\n",
              "    <tr>\n",
              "      <th>296</th>\n",
              "      <td>56</td>\n",
              "      <td>0</td>\n",
              "      <td>140</td>\n",
              "      <td>85</td>\n",
              "      <td>55</td>\n",
              "      <td>0</td>\n",
              "      <td>72</td>\n",
              "      <td>1</td>\n",
              "      <td>0</td>\n",
              "      <td>1</td>\n",
              "      <td>1</td>\n",
              "      <td>0</td>\n",
              "      <td>0</td>\n",
              "      <td>0</td>\n",
              "    </tr>\n",
              "    <tr>\n",
              "      <th>297</th>\n",
              "      <td>75</td>\n",
              "      <td>1</td>\n",
              "      <td>140</td>\n",
              "      <td>70</td>\n",
              "      <td>70</td>\n",
              "      <td>0</td>\n",
              "      <td>97</td>\n",
              "      <td>1</td>\n",
              "      <td>0</td>\n",
              "      <td>1</td>\n",
              "      <td>1</td>\n",
              "      <td>0</td>\n",
              "      <td>1</td>\n",
              "      <td>1</td>\n",
              "    </tr>\n",
              "    <tr>\n",
              "      <th>298</th>\n",
              "      <td>45</td>\n",
              "      <td>1</td>\n",
              "      <td>120</td>\n",
              "      <td>80</td>\n",
              "      <td>40</td>\n",
              "      <td>0</td>\n",
              "      <td>72</td>\n",
              "      <td>0</td>\n",
              "      <td>1</td>\n",
              "      <td>1</td>\n",
              "      <td>1</td>\n",
              "      <td>1</td>\n",
              "      <td>1</td>\n",
              "      <td>1</td>\n",
              "    </tr>\n",
              "    <tr>\n",
              "      <th>299</th>\n",
              "      <td>67</td>\n",
              "      <td>1</td>\n",
              "      <td>120</td>\n",
              "      <td>70</td>\n",
              "      <td>50</td>\n",
              "      <td>0</td>\n",
              "      <td>88</td>\n",
              "      <td>0</td>\n",
              "      <td>1</td>\n",
              "      <td>1</td>\n",
              "      <td>1</td>\n",
              "      <td>0</td>\n",
              "      <td>1</td>\n",
              "      <td>1</td>\n",
              "    </tr>\n",
              "  </tbody>\n",
              "</table>\n",
              "</div>\n",
              "      <button class=\"colab-df-convert\" onclick=\"convertToInteractive('df-97ca1637-a230-4aba-affc-65558dde3e30')\"\n",
              "              title=\"Convert this dataframe to an interactive table.\"\n",
              "              style=\"display:none;\">\n",
              "        \n",
              "  <svg xmlns=\"http://www.w3.org/2000/svg\" height=\"24px\"viewBox=\"0 0 24 24\"\n",
              "       width=\"24px\">\n",
              "    <path d=\"M0 0h24v24H0V0z\" fill=\"none\"/>\n",
              "    <path d=\"M18.56 5.44l.94 2.06.94-2.06 2.06-.94-2.06-.94-.94-2.06-.94 2.06-2.06.94zm-11 1L8.5 8.5l.94-2.06 2.06-.94-2.06-.94L8.5 2.5l-.94 2.06-2.06.94zm10 10l.94 2.06.94-2.06 2.06-.94-2.06-.94-.94-2.06-.94 2.06-2.06.94z\"/><path d=\"M17.41 7.96l-1.37-1.37c-.4-.4-.92-.59-1.43-.59-.52 0-1.04.2-1.43.59L10.3 9.45l-7.72 7.72c-.78.78-.78 2.05 0 2.83L4 21.41c.39.39.9.59 1.41.59.51 0 1.02-.2 1.41-.59l7.78-7.78 2.81-2.81c.8-.78.8-2.07 0-2.86zM5.41 20L4 18.59l7.72-7.72 1.47 1.35L5.41 20z\"/>\n",
              "  </svg>\n",
              "      </button>\n",
              "      \n",
              "  <style>\n",
              "    .colab-df-container {\n",
              "      display:flex;\n",
              "      flex-wrap:wrap;\n",
              "      gap: 12px;\n",
              "    }\n",
              "\n",
              "    .colab-df-convert {\n",
              "      background-color: #E8F0FE;\n",
              "      border: none;\n",
              "      border-radius: 50%;\n",
              "      cursor: pointer;\n",
              "      display: none;\n",
              "      fill: #1967D2;\n",
              "      height: 32px;\n",
              "      padding: 0 0 0 0;\n",
              "      width: 32px;\n",
              "    }\n",
              "\n",
              "    .colab-df-convert:hover {\n",
              "      background-color: #E2EBFA;\n",
              "      box-shadow: 0px 1px 2px rgba(60, 64, 67, 0.3), 0px 1px 3px 1px rgba(60, 64, 67, 0.15);\n",
              "      fill: #174EA6;\n",
              "    }\n",
              "\n",
              "    [theme=dark] .colab-df-convert {\n",
              "      background-color: #3B4455;\n",
              "      fill: #D2E3FC;\n",
              "    }\n",
              "\n",
              "    [theme=dark] .colab-df-convert:hover {\n",
              "      background-color: #434B5C;\n",
              "      box-shadow: 0px 1px 3px 1px rgba(0, 0, 0, 0.15);\n",
              "      filter: drop-shadow(0px 1px 2px rgba(0, 0, 0, 0.3));\n",
              "      fill: #FFFFFF;\n",
              "    }\n",
              "  </style>\n",
              "\n",
              "      <script>\n",
              "        const buttonEl =\n",
              "          document.querySelector('#df-97ca1637-a230-4aba-affc-65558dde3e30 button.colab-df-convert');\n",
              "        buttonEl.style.display =\n",
              "          google.colab.kernel.accessAllowed ? 'block' : 'none';\n",
              "\n",
              "        async function convertToInteractive(key) {\n",
              "          const element = document.querySelector('#df-97ca1637-a230-4aba-affc-65558dde3e30');\n",
              "          const dataTable =\n",
              "            await google.colab.kernel.invokeFunction('convertToInteractive',\n",
              "                                                     [key], {});\n",
              "          if (!dataTable) return;\n",
              "\n",
              "          const docLinkHtml = 'Like what you see? Visit the ' +\n",
              "            '<a target=\"_blank\" href=https://colab.research.google.com/notebooks/data_table.ipynb>data table notebook</a>'\n",
              "            + ' to learn more about interactive tables.';\n",
              "          element.innerHTML = '';\n",
              "          dataTable['output_type'] = 'display_data';\n",
              "          await google.colab.output.renderOutput(dataTable, element);\n",
              "          const docLink = document.createElement('div');\n",
              "          docLink.innerHTML = docLinkHtml;\n",
              "          element.appendChild(docLink);\n",
              "        }\n",
              "      </script>\n",
              "    </div>\n",
              "  </div>\n",
              "  "
            ]
          },
          "metadata": {},
          "execution_count": 542
        }
      ],
      "source": [
        "# view last 5 rows of the dataset\n",
        "df.tail()"
      ]
    },
    {
      "cell_type": "code",
      "execution_count": 543,
      "id": "3afd8845",
      "metadata": {
        "colab": {
          "base_uri": "https://localhost:8080/"
        },
        "id": "3afd8845",
        "outputId": "9b9511ba-8e0b-4271-d51c-fef7ce02917e"
      },
      "outputs": [
        {
          "output_type": "execute_result",
          "data": {
            "text/plain": [
              "(300, 14)"
            ]
          },
          "metadata": {},
          "execution_count": 543
        }
      ],
      "source": [
        "# Checking the shape of dataset\n",
        "df.shape"
      ]
    },
    {
      "cell_type": "markdown",
      "id": "7c7d59d5",
      "metadata": {
        "id": "7c7d59d5"
      },
      "source": [
        "The dataset has 99 rows and 12 columns including the target. Now let's get to know about the feature names:\n",
        "\n",
        "1. Age: age of the patients\n",
        "2. Sex: Gender of the patients\n",
        "3. bps: Bits Per Second\n",
        "4. fbs: Fasting Blood Sugar levels.\n",
        "5. hr: Heart Rate per minutes\n",
        "6. cp: Cerebral palsy\n",
        "7. chol: gallbladder\n",
        "8. exng: Electronystagmography (ENG or electrooculography)\n",
        "9. sob: Shortness of breath\n",
        "10. restecg:\n",
        "11. diabaties: If the patient has diabaties or not\n",
        "12. target: target column either affected or not\n",
        "\n",
        "These are the variables we need to work with. Now let's analyse the dataset to get some insight from it."
      ]
    },
    {
      "cell_type": "markdown",
      "id": "7316152e",
      "metadata": {
        "id": "7316152e"
      },
      "source": [
        "### Exploratory Data Analysis (EDA)"
      ]
    },
    {
      "cell_type": "code",
      "execution_count": 544,
      "id": "8207e16b",
      "metadata": {
        "colab": {
          "base_uri": "https://localhost:8080/",
          "height": 206
        },
        "id": "8207e16b",
        "outputId": "ad397a45-8474-47ff-ec5d-5b39366c7efa"
      },
      "outputs": [
        {
          "output_type": "execute_result",
          "data": {
            "text/plain": [
              "   age  sex  bps1  bps2  pp  fbs  hr  cp  chol  exng  sob  trn  restecg   \\\n",
              "0   55    0   160   100  60    0  92   1     1     1    1    1         1   \n",
              "1   55    0   130    90  40    0  96   1     1     1    1    1         1   \n",
              "2   69    0   160    90  70    0  98   1     1     1    1    1         1   \n",
              "3   35    0   100    60  40    0  82   1     1     1    1    1         1   \n",
              "4   70    0   110    70  40    0  98   1     1     1    1    1         1   \n",
              "\n",
              "   target  \n",
              "0       1  \n",
              "1       1  \n",
              "2       1  \n",
              "3       1  \n",
              "4       1  "
            ],
            "text/html": [
              "\n",
              "  <div id=\"df-23710677-43d1-4af6-bf1d-3d32dee4fe75\">\n",
              "    <div class=\"colab-df-container\">\n",
              "      <div>\n",
              "<style scoped>\n",
              "    .dataframe tbody tr th:only-of-type {\n",
              "        vertical-align: middle;\n",
              "    }\n",
              "\n",
              "    .dataframe tbody tr th {\n",
              "        vertical-align: top;\n",
              "    }\n",
              "\n",
              "    .dataframe thead th {\n",
              "        text-align: right;\n",
              "    }\n",
              "</style>\n",
              "<table border=\"1\" class=\"dataframe\">\n",
              "  <thead>\n",
              "    <tr style=\"text-align: right;\">\n",
              "      <th></th>\n",
              "      <th>age</th>\n",
              "      <th>sex</th>\n",
              "      <th>bps1</th>\n",
              "      <th>bps2</th>\n",
              "      <th>pp</th>\n",
              "      <th>fbs</th>\n",
              "      <th>hr</th>\n",
              "      <th>cp</th>\n",
              "      <th>chol</th>\n",
              "      <th>exng</th>\n",
              "      <th>sob</th>\n",
              "      <th>trn</th>\n",
              "      <th>restecg</th>\n",
              "      <th>target</th>\n",
              "    </tr>\n",
              "  </thead>\n",
              "  <tbody>\n",
              "    <tr>\n",
              "      <th>0</th>\n",
              "      <td>55</td>\n",
              "      <td>0</td>\n",
              "      <td>160</td>\n",
              "      <td>100</td>\n",
              "      <td>60</td>\n",
              "      <td>0</td>\n",
              "      <td>92</td>\n",
              "      <td>1</td>\n",
              "      <td>1</td>\n",
              "      <td>1</td>\n",
              "      <td>1</td>\n",
              "      <td>1</td>\n",
              "      <td>1</td>\n",
              "      <td>1</td>\n",
              "    </tr>\n",
              "    <tr>\n",
              "      <th>1</th>\n",
              "      <td>55</td>\n",
              "      <td>0</td>\n",
              "      <td>130</td>\n",
              "      <td>90</td>\n",
              "      <td>40</td>\n",
              "      <td>0</td>\n",
              "      <td>96</td>\n",
              "      <td>1</td>\n",
              "      <td>1</td>\n",
              "      <td>1</td>\n",
              "      <td>1</td>\n",
              "      <td>1</td>\n",
              "      <td>1</td>\n",
              "      <td>1</td>\n",
              "    </tr>\n",
              "    <tr>\n",
              "      <th>2</th>\n",
              "      <td>69</td>\n",
              "      <td>0</td>\n",
              "      <td>160</td>\n",
              "      <td>90</td>\n",
              "      <td>70</td>\n",
              "      <td>0</td>\n",
              "      <td>98</td>\n",
              "      <td>1</td>\n",
              "      <td>1</td>\n",
              "      <td>1</td>\n",
              "      <td>1</td>\n",
              "      <td>1</td>\n",
              "      <td>1</td>\n",
              "      <td>1</td>\n",
              "    </tr>\n",
              "    <tr>\n",
              "      <th>3</th>\n",
              "      <td>35</td>\n",
              "      <td>0</td>\n",
              "      <td>100</td>\n",
              "      <td>60</td>\n",
              "      <td>40</td>\n",
              "      <td>0</td>\n",
              "      <td>82</td>\n",
              "      <td>1</td>\n",
              "      <td>1</td>\n",
              "      <td>1</td>\n",
              "      <td>1</td>\n",
              "      <td>1</td>\n",
              "      <td>1</td>\n",
              "      <td>1</td>\n",
              "    </tr>\n",
              "    <tr>\n",
              "      <th>4</th>\n",
              "      <td>70</td>\n",
              "      <td>0</td>\n",
              "      <td>110</td>\n",
              "      <td>70</td>\n",
              "      <td>40</td>\n",
              "      <td>0</td>\n",
              "      <td>98</td>\n",
              "      <td>1</td>\n",
              "      <td>1</td>\n",
              "      <td>1</td>\n",
              "      <td>1</td>\n",
              "      <td>1</td>\n",
              "      <td>1</td>\n",
              "      <td>1</td>\n",
              "    </tr>\n",
              "  </tbody>\n",
              "</table>\n",
              "</div>\n",
              "      <button class=\"colab-df-convert\" onclick=\"convertToInteractive('df-23710677-43d1-4af6-bf1d-3d32dee4fe75')\"\n",
              "              title=\"Convert this dataframe to an interactive table.\"\n",
              "              style=\"display:none;\">\n",
              "        \n",
              "  <svg xmlns=\"http://www.w3.org/2000/svg\" height=\"24px\"viewBox=\"0 0 24 24\"\n",
              "       width=\"24px\">\n",
              "    <path d=\"M0 0h24v24H0V0z\" fill=\"none\"/>\n",
              "    <path d=\"M18.56 5.44l.94 2.06.94-2.06 2.06-.94-2.06-.94-.94-2.06-.94 2.06-2.06.94zm-11 1L8.5 8.5l.94-2.06 2.06-.94-2.06-.94L8.5 2.5l-.94 2.06-2.06.94zm10 10l.94 2.06.94-2.06 2.06-.94-2.06-.94-.94-2.06-.94 2.06-2.06.94z\"/><path d=\"M17.41 7.96l-1.37-1.37c-.4-.4-.92-.59-1.43-.59-.52 0-1.04.2-1.43.59L10.3 9.45l-7.72 7.72c-.78.78-.78 2.05 0 2.83L4 21.41c.39.39.9.59 1.41.59.51 0 1.02-.2 1.41-.59l7.78-7.78 2.81-2.81c.8-.78.8-2.07 0-2.86zM5.41 20L4 18.59l7.72-7.72 1.47 1.35L5.41 20z\"/>\n",
              "  </svg>\n",
              "      </button>\n",
              "      \n",
              "  <style>\n",
              "    .colab-df-container {\n",
              "      display:flex;\n",
              "      flex-wrap:wrap;\n",
              "      gap: 12px;\n",
              "    }\n",
              "\n",
              "    .colab-df-convert {\n",
              "      background-color: #E8F0FE;\n",
              "      border: none;\n",
              "      border-radius: 50%;\n",
              "      cursor: pointer;\n",
              "      display: none;\n",
              "      fill: #1967D2;\n",
              "      height: 32px;\n",
              "      padding: 0 0 0 0;\n",
              "      width: 32px;\n",
              "    }\n",
              "\n",
              "    .colab-df-convert:hover {\n",
              "      background-color: #E2EBFA;\n",
              "      box-shadow: 0px 1px 2px rgba(60, 64, 67, 0.3), 0px 1px 3px 1px rgba(60, 64, 67, 0.15);\n",
              "      fill: #174EA6;\n",
              "    }\n",
              "\n",
              "    [theme=dark] .colab-df-convert {\n",
              "      background-color: #3B4455;\n",
              "      fill: #D2E3FC;\n",
              "    }\n",
              "\n",
              "    [theme=dark] .colab-df-convert:hover {\n",
              "      background-color: #434B5C;\n",
              "      box-shadow: 0px 1px 3px 1px rgba(0, 0, 0, 0.15);\n",
              "      filter: drop-shadow(0px 1px 2px rgba(0, 0, 0, 0.3));\n",
              "      fill: #FFFFFF;\n",
              "    }\n",
              "  </style>\n",
              "\n",
              "      <script>\n",
              "        const buttonEl =\n",
              "          document.querySelector('#df-23710677-43d1-4af6-bf1d-3d32dee4fe75 button.colab-df-convert');\n",
              "        buttonEl.style.display =\n",
              "          google.colab.kernel.accessAllowed ? 'block' : 'none';\n",
              "\n",
              "        async function convertToInteractive(key) {\n",
              "          const element = document.querySelector('#df-23710677-43d1-4af6-bf1d-3d32dee4fe75');\n",
              "          const dataTable =\n",
              "            await google.colab.kernel.invokeFunction('convertToInteractive',\n",
              "                                                     [key], {});\n",
              "          if (!dataTable) return;\n",
              "\n",
              "          const docLinkHtml = 'Like what you see? Visit the ' +\n",
              "            '<a target=\"_blank\" href=https://colab.research.google.com/notebooks/data_table.ipynb>data table notebook</a>'\n",
              "            + ' to learn more about interactive tables.';\n",
              "          element.innerHTML = '';\n",
              "          dataTable['output_type'] = 'display_data';\n",
              "          await google.colab.output.renderOutput(dataTable, element);\n",
              "          const docLink = document.createElement('div');\n",
              "          docLink.innerHTML = docLinkHtml;\n",
              "          element.appendChild(docLink);\n",
              "        }\n",
              "      </script>\n",
              "    </div>\n",
              "  </div>\n",
              "  "
            ]
          },
          "metadata": {},
          "execution_count": 544
        }
      ],
      "source": [
        "# view top 5 rows\n",
        "df.head()"
      ]
    },
    {
      "cell_type": "code",
      "execution_count": 545,
      "id": "a75dd0e4",
      "metadata": {
        "colab": {
          "base_uri": "https://localhost:8080/"
        },
        "id": "a75dd0e4",
        "outputId": "d5316867-8b07-48af-ff75-ee57e3a7ac30"
      },
      "outputs": [
        {
          "output_type": "execute_result",
          "data": {
            "text/plain": [
              "age         0\n",
              "sex         0\n",
              "bps1        0\n",
              "bps2        0\n",
              "pp          0\n",
              "fbs         0\n",
              "hr          0\n",
              "cp          0\n",
              "chol        0\n",
              "exng        0\n",
              "sob         0\n",
              "trn         0\n",
              "restecg     0\n",
              "target      0\n",
              "dtype: int64"
            ]
          },
          "metadata": {},
          "execution_count": 545
        }
      ],
      "source": [
        "# let's check if is there any null values\n",
        "df.isnull().sum()"
      ]
    },
    {
      "cell_type": "code",
      "execution_count": 546,
      "id": "c3a926d7",
      "metadata": {
        "colab": {
          "base_uri": "https://localhost:8080/"
        },
        "id": "c3a926d7",
        "outputId": "71722278-4977-4be9-d53f-1fa84831626c"
      },
      "outputs": [
        {
          "output_type": "stream",
          "name": "stdout",
          "text": [
            "<class 'pandas.core.frame.DataFrame'>\n",
            "RangeIndex: 300 entries, 0 to 299\n",
            "Data columns (total 14 columns):\n",
            " #   Column    Non-Null Count  Dtype\n",
            "---  ------    --------------  -----\n",
            " 0   age       300 non-null    int64\n",
            " 1   sex       300 non-null    int64\n",
            " 2   bps1      300 non-null    int64\n",
            " 3   bps2      300 non-null    int64\n",
            " 4   pp        300 non-null    int64\n",
            " 5   fbs       300 non-null    int64\n",
            " 6   hr        300 non-null    int64\n",
            " 7   cp        300 non-null    int64\n",
            " 8   chol      300 non-null    int64\n",
            " 9   exng      300 non-null    int64\n",
            " 10  sob       300 non-null    int64\n",
            " 11  trn       300 non-null    int64\n",
            " 12  restecg   300 non-null    int64\n",
            " 13  target    300 non-null    int64\n",
            "dtypes: int64(14)\n",
            "memory usage: 32.9 KB\n"
          ]
        }
      ],
      "source": [
        "# check basic information about the dataset\n",
        "df.info()"
      ]
    },
    {
      "cell_type": "markdown",
      "id": "5f4d59f4",
      "metadata": {
        "id": "5f4d59f4"
      },
      "source": [
        "Here most all the column has the same data type which is number or integer type. But some of should be categorical type.\n",
        "Let's convert them into correct type, before that, it need to be recognized which should be in categorical form. If the same value appears less than 5 times then we'll consider it as categorical."
      ]
    },
    {
      "cell_type": "code",
      "execution_count": 547,
      "id": "65f80050",
      "metadata": {
        "colab": {
          "base_uri": "https://localhost:8080/"
        },
        "id": "65f80050",
        "outputId": "f226fbbd-5d42-42a6-c9e1-09e2aba8c350"
      },
      "outputs": [
        {
          "output_type": "stream",
          "name": "stdout",
          "text": [
            "age  :  49\n",
            "sex  :  2\n",
            "bps1  :  36\n",
            "bps2  :  8\n",
            "pp  :  28\n",
            "fbs  :  2\n",
            "hr  :  26\n",
            "cp  :  2\n",
            "chol  :  2\n",
            "exng  :  2\n",
            "sob  :  2\n",
            "trn  :  2\n",
            "restecg   :  2\n",
            "target  :  2\n"
          ]
        }
      ],
      "source": [
        "# viewing the unique values of each column\n",
        "for col in df.columns:\n",
        "    print(col, \" : \", df[col].nunique())"
      ]
    },
    {
      "cell_type": "markdown",
      "id": "4d3c3fbf",
      "metadata": {
        "id": "4d3c3fbf"
      },
      "source": [
        "Most of the columns has only two unique values. Let's seperate categorical & numeric variables"
      ]
    },
    {
      "cell_type": "code",
      "execution_count": 548,
      "id": "cebbb377",
      "metadata": {
        "id": "cebbb377"
      },
      "outputs": [],
      "source": [
        "cat_col = []\n",
        "num_col = []\n",
        "for i in df.drop('target', axis = 1).columns:\n",
        "    if len(df[i].unique()) <=2:\n",
        "        cat_col.append(i)\n",
        "    else:\n",
        "        num_col.append(i)"
      ]
    },
    {
      "cell_type": "code",
      "execution_count": 549,
      "id": "66473c0c",
      "metadata": {
        "colab": {
          "base_uri": "https://localhost:8080/"
        },
        "id": "66473c0c",
        "outputId": "61ddeb15-fa02-4a25-f21a-21d289e10331"
      },
      "outputs": [
        {
          "output_type": "stream",
          "name": "stdout",
          "text": [
            "categorical feature:  ['sex', 'fbs', 'cp', 'chol', 'exng', 'sob', 'trn', 'restecg ']\n",
            "numeric feature:  ['age', 'bps1', 'bps2', 'pp', 'hr']\n"
          ]
        }
      ],
      "source": [
        "print(\"categorical feature: \", cat_col)\n",
        "print(\"numeric feature: \", num_col)"
      ]
    },
    {
      "cell_type": "code",
      "execution_count": 550,
      "id": "06ab72ae",
      "metadata": {
        "id": "06ab72ae"
      },
      "outputs": [],
      "source": [
        "df[['sex', 'fbs', 'cp', 'chol', 'exng', 'sob', 'trn', 'restecg ']] = df[['sex', 'fbs', 'cp', 'chol', 'exng', 'sob', 'trn', 'restecg ']].astype('category')"
      ]
    },
    {
      "cell_type": "code",
      "execution_count": 551,
      "id": "d79b5d2b",
      "metadata": {
        "id": "d79b5d2b"
      },
      "outputs": [],
      "source": [
        "# we've converted the columns into categorical form.\n",
        "# Now we've only two data types categorical and integer type. \"Age, bps, hr\" most of the time contain continous data.\n",
        "# so here we are not goint to seperate these integer type into discrete and continous type."
      ]
    },
    {
      "cell_type": "code",
      "execution_count": 552,
      "id": "1b30b51a",
      "metadata": {
        "id": "1b30b51a"
      },
      "outputs": [],
      "source": [
        "# let's see how the categorical variables are related to the target.\n",
        "\n",
        "def view_cat(var):\n",
        "    plt.figure(figsize = (8,5))\n",
        "    sns.countplot(var, hue = 'target', data = df)\n",
        "    plt.title(\"# of affected(1) & Not affected(0) based on \"+ var)\n",
        "    plt.xlabel(var)\n",
        "    plt.ylabel('value Counts')\n",
        "    plt.show()"
      ]
    },
    {
      "cell_type": "code",
      "execution_count": 553,
      "id": "4f523d24",
      "metadata": {
        "colab": {
          "base_uri": "https://localhost:8080/",
          "height": 1000
        },
        "id": "4f523d24",
        "outputId": "89b9d379-e243-41bf-bf8a-4ac902c9a4f0"
      },
      "outputs": [
        {
          "output_type": "stream",
          "name": "stderr",
          "text": [
            "/usr/local/lib/python3.7/dist-packages/seaborn/_decorators.py:43: FutureWarning: Pass the following variable as a keyword arg: x. From version 0.12, the only valid positional argument will be `data`, and passing other arguments without an explicit keyword will result in an error or misinterpretation.\n",
            "  FutureWarning\n"
          ]
        },
        {
          "output_type": "display_data",
          "data": {
            "text/plain": [
              "<Figure size 576x360 with 1 Axes>"
            ],
            "image/png": "[encoded data removed]"
          },
          "metadata": {
            "needs_background": "light"
          }
        },
        {
          "output_type": "stream",
          "name": "stderr",
          "text": [
            "/usr/local/lib/python3.7/dist-packages/seaborn/_decorators.py:43: FutureWarning: Pass the following variable as a keyword arg: x. From version 0.12, the only valid positional argument will be `data`, and passing other arguments without an explicit keyword will result in an error or misinterpretation.\n",
            "  FutureWarning\n"
          ]
        },
        {
          "output_type": "display_data",
          "data": {
            "text/plain": [
              "<Figure size 576x360 with 1 Axes>"
            ],
            "image/png": "[encoded data removed]"
          },
          "metadata": {
            "needs_background": "light"
          }
        },
        {
          "output_type": "stream",
          "name": "stderr",
          "text": [
            "/usr/local/lib/python3.7/dist-packages/seaborn/_decorators.py:43: FutureWarning: Pass the following variable as a keyword arg: x. From version 0.12, the only valid positional argument will be `data`, and passing other arguments without an explicit keyword will result in an error or misinterpretation.\n",
            "  FutureWarning\n"
          ]
        },
        {
          "output_type": "display_data",
          "data": {
            "text/plain": [
              "<Figure size 576x360 with 1 Axes>"
            ],
            "image/png": "[encoded data removed]"
          },
          "metadata": {
            "needs_background": "light"
          }
        },
        {
          "output_type": "stream",
          "name": "stderr",
          "text": [
            "/usr/local/lib/python3.7/dist-packages/seaborn/_decorators.py:43: FutureWarning: Pass the following variable as a keyword arg: x. From version 0.12, the only valid positional argument will be `data`, and passing other arguments without an explicit keyword will result in an error or misinterpretation.\n",
            "  FutureWarning\n"
          ]
        },
        {
          "output_type": "display_data",
          "data": {
            "text/plain": [
              "<Figure size 576x360 with 1 Axes>"
            ],
            "image/png": "[encoded data removed]"
          },
          "metadata": {
            "needs_background": "light"
          }
        },
        {
          "output_type": "stream",
          "name": "stderr",
          "text": [
            "/usr/local/lib/python3.7/dist-packages/seaborn/_decorators.py:43: FutureWarning: Pass the following variable as a keyword arg: x. From version 0.12, the only valid positional argument will be `data`, and passing other arguments without an explicit keyword will result in an error or misinterpretation.\n",
            "  FutureWarning\n"
          ]
        },
        {
          "output_type": "display_data",
          "data": {
            "text/plain": [
              "<Figure size 576x360 with 1 Axes>"
            ],
            "image/png": "[encoded data removed]"
          },
          "metadata": {
            "needs_background": "light"
          }
        },
        {
          "output_type": "stream",
          "name": "stderr",
          "text": [
            "/usr/local/lib/python3.7/dist-packages/seaborn/_decorators.py:43: FutureWarning: Pass the following variable as a keyword arg: x. From version 0.12, the only valid positional argument will be `data`, and passing other arguments without an explicit keyword will result in an error or misinterpretation.\n",
            "  FutureWarning\n"
          ]
        },
        {
          "output_type": "display_data",
          "data": {
            "text/plain": [
              "<Figure size 576x360 with 1 Axes>"
            ],
            "image/png": "[encoded data removed]"
          },
          "metadata": {
            "needs_background": "light"
          }
        },
        {
          "output_type": "stream",
          "name": "stderr",
          "text": [
            "/usr/local/lib/python3.7/dist-packages/seaborn/_decorators.py:43: FutureWarning: Pass the following variable as a keyword arg: x. From version 0.12, the only valid positional argument will be `data`, and passing other arguments without an explicit keyword will result in an error or misinterpretation.\n",
            "  FutureWarning\n"
          ]
        },
        {
          "output_type": "display_data",
          "data": {
            "text/plain": [
              "<Figure size 576x360 with 1 Axes>"
            ],
            "image/png": "[encoded data removed]"
          },
          "metadata": {
            "needs_background": "light"
          }
        },
        {
          "output_type": "stream",
          "name": "stderr",
          "text": [
            "/usr/local/lib/python3.7/dist-packages/seaborn/_decorators.py:43: FutureWarning: Pass the following variable as a keyword arg: x. From version 0.12, the only valid positional argument will be `data`, and passing other arguments without an explicit keyword will result in an error or misinterpretation.\n",
            "  FutureWarning\n"
          ]
        },
        {
          "output_type": "display_data",
          "data": {
            "text/plain": [
              "<Figure size 576x360 with 1 Axes>"
            ],
            "image/png": "[encoded data removed]"
          },
          "metadata": {
            "needs_background": "light"
          }
        }
      ],
      "source": [
        "# let's plot for categorical variables\n",
        "for cat_col in df.columns:\n",
        "    if df[cat_col].dtype != 'int64':\n",
        "        view_cat(cat_col)"
      ]
    },
    {
      "cell_type": "code",
      "execution_count": 554,
      "id": "23263e98",
      "metadata": {
        "id": "23263e98"
      },
      "outputs": [],
      "source": [
        "# Now let's use a histagram & jointplot to see visualize the integer type\n",
        "def view_int(var):\n",
        "    plt.figure(figsize = (12,7))\n",
        "    plt.hist(var, data = df, bins = 20, color='c')\n",
        "    plt.title(var)\n",
        "    plt.show()"
      ]
    },
    {
      "cell_type": "code",
      "execution_count": 555,
      "id": "583fc7fb",
      "metadata": {
        "scrolled": true,
        "colab": {
          "base_uri": "https://localhost:8080/",
          "height": 1000
        },
        "id": "583fc7fb",
        "outputId": "b904608d-87b1-4e2d-8848-8bac5ac49f36"
      },
      "outputs": [
        {
          "output_type": "display_data",
          "data": {
            "text/plain": [
              "<Figure size 864x504 with 1 Axes>"
            ],
            "image/png": "[encoded data removed]"
          },
          "metadata": {
            "needs_background": "light"
          }
        },
        {
          "output_type": "display_data",
          "data": {
            "text/plain": [
              "<Figure size 864x504 with 1 Axes>"
            ],
            "image/png": "[encoded data removed]"
          },
          "metadata": {
            "needs_background": "light"
          }
        },
        {
          "output_type": "display_data",
          "data": {
            "text/plain": [
              "<Figure size 864x504 with 1 Axes>"
            ],
            "image/png": "[encoded data removed]"
          },
          "metadata": {
            "needs_background": "light"
          }
        },
        {
          "output_type": "display_data",
          "data": {
            "text/plain": [
              "<Figure size 864x504 with 1 Axes>"
            ],
            "image/png": "[encoded data removed]"
          },
          "metadata": {
            "needs_background": "light"
          }
        },
        {
          "output_type": "display_data",
          "data": {
            "text/plain": [
              "<Figure size 864x504 with 1 Axes>"
            ],
            "image/png": "[encoded data removed]"
          },
          "metadata": {
            "needs_background": "light"
          }
        }
      ],
      "source": [
        "for int_col in df.drop('target', axis =1).columns:\n",
        "    if df[int_col].dtype == 'int64':\n",
        "        view_int(int_col)"
      ]
    },
    {
      "cell_type": "code",
      "execution_count": 556,
      "id": "002bd07a",
      "metadata": {
        "scrolled": true,
        "colab": {
          "base_uri": "https://localhost:8080/",
          "height": 458
        },
        "id": "002bd07a",
        "outputId": "ce5821fd-6d78-42e3-8954-6537e150328b"
      },
      "outputs": [
        {
          "output_type": "display_data",
          "data": {
            "text/plain": [
              "<Figure size 648x504 with 1 Axes>"
            ],
            "image/png": "[encoded data removed]"
          },
          "metadata": {
            "needs_background": "light"
          }
        }
      ],
      "source": [
        "# Create another figure\n",
        "plt.figure(figsize=(9, 7))\n",
        "\n",
        "sns.scatterplot(x = 'age', y = 'hr', hue = 'target', data = df)\n",
        "\n",
        "plt.title(\"Heart Disease in function of Age and Max Heart Rate\")\n",
        "plt.xlabel(\"Age\")\n",
        "plt.ylabel(\"Max Heart Rate\")\n",
        "plt.legend([\"Disease\", \"No Disease\"]);\n",
        "plt.show()"
      ]
    },
    {
      "cell_type": "markdown",
      "id": "796864e0",
      "metadata": {
        "id": "796864e0"
      },
      "source": [
        "we can see that there is a almost skewed distribution for each number type data. Viewing this let's end EDA. Next part is Feature Engineering"
      ]
    },
    {
      "cell_type": "markdown",
      "id": "e53e47c9",
      "metadata": {
        "id": "e53e47c9"
      },
      "source": [
        "#### Feature Engineering"
      ]
    },
    {
      "cell_type": "markdown",
      "id": "ef06b4f7",
      "metadata": {
        "id": "ef06b4f7"
      },
      "source": [
        "Feature Engineering are related to imputaion of missing values, categorical encoding, outlier handling, feature scaling, frequent category handing etc. Previously saw that there is no missing values in the dataset so there is no need to take care of missing value. The categorical variables are already encoded, so no need of endoding again.\n",
        "\n",
        "Now, Outliers & feature scaling. Most of time tree-based algorithm & Ensemble algorithms don't affected by outliers and don't require feature scaling. And in this notebook most of the algoritm used are tree-based and ensemble types. So there is no need to do this. Except one or two algorithms we don't need that. Let's keep them aside and move forward with the major algoritms for this one.\n",
        "\n",
        "Here we only need to seperate the predictors and target, and also seperate the train & test set\n",
        "\n",
        "In next part let's select the most effective variables by using feature selection."
      ]
    },
    {
      "cell_type": "code",
      "execution_count": 557,
      "id": "479246a8",
      "metadata": {
        "id": "479246a8"
      },
      "outputs": [],
      "source": [
        "# selecting target & predictors\n",
        "X = df.drop('target', axis = 1)\n",
        "y = df['target']"
      ]
    },
    {
      "cell_type": "code",
      "execution_count": 558,
      "id": "6ae43729",
      "metadata": {
        "id": "6ae43729"
      },
      "outputs": [],
      "source": [
        "X = pd.get_dummies(data = df[['sex', 'fbs', 'cp', 'chol', 'exng', 'sob', 'trn', 'restecg ']], drop_first=True)"
      ]
    },
    {
      "cell_type": "code",
      "execution_count": 559,
      "id": "365cefe2",
      "metadata": {
        "id": "365cefe2"
      },
      "outputs": [],
      "source": [
        "X['age'] = df['age']"
      ]
    },
    {
      "cell_type": "code",
      "execution_count": 560,
      "id": "6edde3e5",
      "metadata": {
        "id": "6edde3e5"
      },
      "outputs": [],
      "source": [
        "X['bps1'] = df['bps1']\n",
        "X['bps2'] = df['bps2']\n",
        "X['hr'] = df['hr']\n",
        "X['pp'] = df['pp']"
      ]
    },
    {
      "cell_type": "code",
      "execution_count": 561,
      "id": "6f5c6a0d",
      "metadata": {
        "colab": {
          "base_uri": "https://localhost:8080/",
          "height": 206
        },
        "id": "6f5c6a0d",
        "outputId": "db10d1fe-2399-4d2d-d89a-4e68ab411700"
      },
      "outputs": [
        {
          "output_type": "execute_result",
          "data": {
            "text/plain": [
              "   sex_1  fbs_1  cp_1  chol_1  exng_1  sob_1  trn_1  restecg _1  age  bps1  \\\n",
              "0      0      0     1       1       1      1      1           1   55   160   \n",
              "1      0      0     1       1       1      1      1           1   55   130   \n",
              "2      0      0     1       1       1      1      1           1   69   160   \n",
              "3      0      0     1       1       1      1      1           1   35   100   \n",
              "4      0      0     1       1       1      1      1           1   70   110   \n",
              "\n",
              "   bps2  hr  pp  \n",
              "0   100  92  60  \n",
              "1    90  96  40  \n",
              "2    90  98  70  \n",
              "3    60  82  40  \n",
              "4    70  98  40  "
            ],
            "text/html": [
              "\n",
              "  <div id=\"df-9395ed30-5552-4feb-af82-a2b1578e60c3\">\n",
              "    <div class=\"colab-df-container\">\n",
              "      <div>\n",
              "<style scoped>\n",
              "    .dataframe tbody tr th:only-of-type {\n",
              "        vertical-align: middle;\n",
              "    }\n",
              "\n",
              "    .dataframe tbody tr th {\n",
              "        vertical-align: top;\n",
              "    }\n",
              "\n",
              "    .dataframe thead th {\n",
              "        text-align: right;\n",
              "    }\n",
              "</style>\n",
              "<table border=\"1\" class=\"dataframe\">\n",
              "  <thead>\n",
              "    <tr style=\"text-align: right;\">\n",
              "      <th></th>\n",
              "      <th>sex_1</th>\n",
              "      <th>fbs_1</th>\n",
              "      <th>cp_1</th>\n",
              "      <th>chol_1</th>\n",
              "      <th>exng_1</th>\n",
              "      <th>sob_1</th>\n",
              "      <th>trn_1</th>\n",
              "      <th>restecg _1</th>\n",
              "      <th>age</th>\n",
              "      <th>bps1</th>\n",
              "      <th>bps2</th>\n",
              "      <th>hr</th>\n",
              "      <th>pp</th>\n",
              "    </tr>\n",
              "  </thead>\n",
              "  <tbody>\n",
              "    <tr>\n",
              "      <th>0</th>\n",
              "      <td>0</td>\n",
              "      <td>0</td>\n",
              "      <td>1</td>\n",
              "      <td>1</td>\n",
              "      <td>1</td>\n",
              "      <td>1</td>\n",
              "      <td>1</td>\n",
              "      <td>1</td>\n",
              "      <td>55</td>\n",
              "      <td>160</td>\n",
              "      <td>100</td>\n",
              "      <td>92</td>\n",
              "      <td>60</td>\n",
              "    </tr>\n",
              "    <tr>\n",
              "      <th>1</th>\n",
              "      <td>0</td>\n",
              "      <td>0</td>\n",
              "      <td>1</td>\n",
              "      <td>1</td>\n",
              "      <td>1</td>\n",
              "      <td>1</td>\n",
              "      <td>1</td>\n",
              "      <td>1</td>\n",
              "      <td>55</td>\n",
              "      <td>130</td>\n",
              "      <td>90</td>\n",
              "      <td>96</td>\n",
              "      <td>40</td>\n",
              "    </tr>\n",
              "    <tr>\n",
              "      <th>2</th>\n",
              "      <td>0</td>\n",
              "      <td>0</td>\n",
              "      <td>1</td>\n",
              "      <td>1</td>\n",
              "      <td>1</td>\n",
              "      <td>1</td>\n",
              "      <td>1</td>\n",
              "      <td>1</td>\n",
              "      <td>69</td>\n",
              "      <td>160</td>\n",
              "      <td>90</td>\n",
              "      <td>98</td>\n",
              "      <td>70</td>\n",
              "    </tr>\n",
              "    <tr>\n",
              "      <th>3</th>\n",
              "      <td>0</td>\n",
              "      <td>0</td>\n",
              "      <td>1</td>\n",
              "      <td>1</td>\n",
              "      <td>1</td>\n",
              "      <td>1</td>\n",
              "      <td>1</td>\n",
              "      <td>1</td>\n",
              "      <td>35</td>\n",
              "      <td>100</td>\n",
              "      <td>60</td>\n",
              "      <td>82</td>\n",
              "      <td>40</td>\n",
              "    </tr>\n",
              "    <tr>\n",
              "      <th>4</th>\n",
              "      <td>0</td>\n",
              "      <td>0</td>\n",
              "      <td>1</td>\n",
              "      <td>1</td>\n",
              "      <td>1</td>\n",
              "      <td>1</td>\n",
              "      <td>1</td>\n",
              "      <td>1</td>\n",
              "      <td>70</td>\n",
              "      <td>110</td>\n",
              "      <td>70</td>\n",
              "      <td>98</td>\n",
              "      <td>40</td>\n",
              "    </tr>\n",
              "  </tbody>\n",
              "</table>\n",
              "</div>\n",
              "      <button class=\"colab-df-convert\" onclick=\"convertToInteractive('df-9395ed30-5552-4feb-af82-a2b1578e60c3')\"\n",
              "              title=\"Convert this dataframe to an interactive table.\"\n",
              "              style=\"display:none;\">\n",
              "        \n",
              "  <svg xmlns=\"http://www.w3.org/2000/svg\" height=\"24px\"viewBox=\"0 0 24 24\"\n",
              "       width=\"24px\">\n",
              "    <path d=\"M0 0h24v24H0V0z\" fill=\"none\"/>\n",
              "    <path d=\"M18.56 5.44l.94 2.06.94-2.06 2.06-.94-2.06-.94-.94-2.06-.94 2.06-2.06.94zm-11 1L8.5 8.5l.94-2.06 2.06-.94-2.06-.94L8.5 2.5l-.94 2.06-2.06.94zm10 10l.94 2.06.94-2.06 2.06-.94-2.06-.94-.94-2.06-.94 2.06-2.06.94z\"/><path d=\"M17.41 7.96l-1.37-1.37c-.4-.4-.92-.59-1.43-.59-.52 0-1.04.2-1.43.59L10.3 9.45l-7.72 7.72c-.78.78-.78 2.05 0 2.83L4 21.41c.39.39.9.59 1.41.59.51 0 1.02-.2 1.41-.59l7.78-7.78 2.81-2.81c.8-.78.8-2.07 0-2.86zM5.41 20L4 18.59l7.72-7.72 1.47 1.35L5.41 20z\"/>\n",
              "  </svg>\n",
              "      </button>\n",
              "      \n",
              "  <style>\n",
              "    .colab-df-container {\n",
              "      display:flex;\n",
              "      flex-wrap:wrap;\n",
              "      gap: 12px;\n",
              "    }\n",
              "\n",
              "    .colab-df-convert {\n",
              "      background-color: #E8F0FE;\n",
              "      border: none;\n",
              "      border-radius: 50%;\n",
              "      cursor: pointer;\n",
              "      display: none;\n",
              "      fill: #1967D2;\n",
              "      height: 32px;\n",
              "      padding: 0 0 0 0;\n",
              "      width: 32px;\n",
              "    }\n",
              "\n",
              "    .colab-df-convert:hover {\n",
              "      background-color: #E2EBFA;\n",
              "      box-shadow: 0px 1px 2px rgba(60, 64, 67, 0.3), 0px 1px 3px 1px rgba(60, 64, 67, 0.15);\n",
              "      fill: #174EA6;\n",
              "    }\n",
              "\n",
              "    [theme=dark] .colab-df-convert {\n",
              "      background-color: #3B4455;\n",
              "      fill: #D2E3FC;\n",
              "    }\n",
              "\n",
              "    [theme=dark] .colab-df-convert:hover {\n",
              "      background-color: #434B5C;\n",
              "      box-shadow: 0px 1px 3px 1px rgba(0, 0, 0, 0.15);\n",
              "      filter: drop-shadow(0px 1px 2px rgba(0, 0, 0, 0.3));\n",
              "      fill: #FFFFFF;\n",
              "    }\n",
              "  </style>\n",
              "\n",
              "      <script>\n",
              "        const buttonEl =\n",
              "          document.querySelector('#df-9395ed30-5552-4feb-af82-a2b1578e60c3 button.colab-df-convert');\n",
              "        buttonEl.style.display =\n",
              "          google.colab.kernel.accessAllowed ? 'block' : 'none';\n",
              "\n",
              "        async function convertToInteractive(key) {\n",
              "          const element = document.querySelector('#df-9395ed30-5552-4feb-af82-a2b1578e60c3');\n",
              "          const dataTable =\n",
              "            await google.colab.kernel.invokeFunction('convertToInteractive',\n",
              "                                                     [key], {});\n",
              "          if (!dataTable) return;\n",
              "\n",
              "          const docLinkHtml = 'Like what you see? Visit the ' +\n",
              "            '<a target=\"_blank\" href=https://colab.research.google.com/notebooks/data_table.ipynb>data table notebook</a>'\n",
              "            + ' to learn more about interactive tables.';\n",
              "          element.innerHTML = '';\n",
              "          dataTable['output_type'] = 'display_data';\n",
              "          await google.colab.output.renderOutput(dataTable, element);\n",
              "          const docLink = document.createElement('div');\n",
              "          docLink.innerHTML = docLinkHtml;\n",
              "          element.appendChild(docLink);\n",
              "        }\n",
              "      </script>\n",
              "    </div>\n",
              "  </div>\n",
              "  "
            ]
          },
          "metadata": {},
          "execution_count": 561
        }
      ],
      "source": [
        "X.head()"
      ]
    },
    {
      "cell_type": "code",
      "execution_count": 562,
      "id": "28ccac5a",
      "metadata": {
        "id": "28ccac5a"
      },
      "outputs": [],
      "source": [
        "# split dataset into train & test set. Here random_state will set to 0 for no randomization so that \n",
        "# each case we can get the same result\n",
        "X_train, X_test, y_train, y_test = train_test_split(X, y, test_size=0.25, random_state=0)"
      ]
    },
    {
      "cell_type": "markdown",
      "id": "bc67ca0c",
      "metadata": {
        "id": "bc67ca0c"
      },
      "source": [
        "### Feature Selection\n",
        "In this notebook selectkbest & chi2 test. Using this features being selected and later on using these features more ML algorithms are being implemented. "
      ]
    },
    {
      "cell_type": "code",
      "execution_count": 563,
      "id": "0b19df81",
      "metadata": {
        "colab": {
          "base_uri": "https://localhost:8080/"
        },
        "id": "0b19df81",
        "outputId": "a12e7b48-7045-48c5-a3a7-f50f29efbc84"
      },
      "outputs": [
        {
          "output_type": "stream",
          "name": "stdout",
          "text": [
            "     Feature      Scores\n",
            "12  restecg   128.878324\n",
            "5        fbs   65.794670\n",
            "10       sob   37.306536\n",
            "2       bps1   10.107698\n",
            "8       chol    9.944562\n",
            "0        age    9.621096\n",
            "9       exng    8.097341\n",
            "7         cp    7.976871\n",
            "4         pp    6.090491\n",
            "1        sex    3.428951\n",
            "6         hr    0.597858\n"
          ]
        }
      ],
      "source": [
        "# Creating instance of selectKbest\n",
        "skb = SelectKBest(chi2, k=11)\n",
        "\n",
        "# fit the train data\n",
        "scores = skb.fit(X_train, y_train)\n",
        "\n",
        "# Creating scoring dataframe\n",
        "df_scores = pd.DataFrame(scores.scores_)\n",
        "df_cols = pd.DataFrame(df.columns)\n",
        "score_df = pd.concat([df_cols, df_scores], axis = 1)\n",
        "score_df.columns = ['Feature', 'Scores']\n",
        "\n",
        "# printing scores\n",
        "print(score_df.nlargest(11, 'Scores'))"
      ]
    },
    {
      "cell_type": "markdown",
      "id": "2a30c4c7",
      "metadata": {
        "id": "2a30c4c7"
      },
      "source": [
        "Here we can see that \"hr\" has the lowest score. so it can be removed but since we are detecting heart diseases so it must be a vital features. So let's keep all and move on."
      ]
    },
    {
      "cell_type": "markdown",
      "id": "bbed268c",
      "metadata": {
        "id": "bbed268c"
      },
      "source": [
        "### Machine Learning\n",
        "\n"
      ]
    },
    {
      "cell_type": "markdown",
      "id": "e4115427",
      "metadata": {
        "id": "e4115427"
      },
      "source": [
        "##### Random Forest Classifier"
      ]
    },
    {
      "cell_type": "code",
      "execution_count": 564,
      "id": "3c53a5a1",
      "metadata": {
        "colab": {
          "base_uri": "https://localhost:8080/"
        },
        "id": "3c53a5a1",
        "outputId": "9d025b10-12cd-48d0-e2b8-1053818298e8"
      },
      "outputs": [
        {
          "output_type": "execute_result",
          "data": {
            "text/plain": [
              "RandomForestClassifier(random_state=0)"
            ]
          },
          "metadata": {},
          "execution_count": 564
        }
      ],
      "source": [
        "rfc = RandomForestClassifier(random_state=0) # Create instance\n",
        "rfc.fit(X_train, y_train) # fit the train data"
      ]
    },
    {
      "cell_type": "code",
      "execution_count": 565,
      "id": "167ffba1",
      "metadata": {
        "id": "167ffba1"
      },
      "outputs": [],
      "source": [
        "# predicting the output\n",
        "rfc_pred = rfc.predict(X_test)"
      ]
    },
    {
      "cell_type": "code",
      "execution_count": 566,
      "id": "e5c7f816",
      "metadata": {
        "colab": {
          "base_uri": "https://localhost:8080/"
        },
        "id": "e5c7f816",
        "outputId": "09caea45-7c4c-439a-ac9f-796795c37183"
      },
      "outputs": [
        {
          "output_type": "stream",
          "name": "stdout",
          "text": [
            "The test accuracy score: 1.0\n",
            "======================================\n",
            "r2 Score: 1.0\n",
            "======================================\n",
            "              precision    recall  f1-score   support\n",
            "\n",
            "           0       1.00      1.00      1.00        21\n",
            "           1       1.00      1.00      1.00        54\n",
            "\n",
            "    accuracy                           1.00        75\n",
            "   macro avg       1.00      1.00      1.00        75\n",
            "weighted avg       1.00      1.00      1.00        75\n",
            "\n"
          ]
        }
      ],
      "source": [
        "# model evaluation\n",
        "print(f\"The test accuracy score: {metrics.accuracy_score(y_test, rfc_pred)}\")\n",
        "print('======================================')\n",
        "print(f'r2 Score: {metrics.r2_score(y_test, rfc_pred)}')\n",
        "print('======================================')\n",
        "print(metrics.classification_report(y_test, rfc_pred))"
      ]
    },
    {
      "cell_type": "markdown",
      "id": "02cd318f",
      "metadata": {
        "id": "02cd318f"
      },
      "source": [
        "Here we can see that Random Forest Classifier performs very well. It got accuracy of 100% which is quite rare. Let's try other algorithms and see what we get."
      ]
    },
    {
      "cell_type": "markdown",
      "id": "069f0e89",
      "metadata": {
        "id": "069f0e89"
      },
      "source": [
        "##### LogisticRegression"
      ]
    },
    {
      "cell_type": "code",
      "execution_count": 567,
      "id": "3d5c3a2e",
      "metadata": {
        "colab": {
          "base_uri": "https://localhost:8080/"
        },
        "id": "3d5c3a2e",
        "outputId": "5bbcd802-536c-47e6-ba93-487b89cc0263"
      },
      "outputs": [
        {
          "output_type": "stream",
          "name": "stderr",
          "text": [
            "/usr/local/lib/python3.7/dist-packages/sklearn/linear_model/_logistic.py:818: ConvergenceWarning: lbfgs failed to converge (status=1):\n",
            "STOP: TOTAL NO. of ITERATIONS REACHED LIMIT.\n",
            "\n",
            "Increase the number of iterations (max_iter) or scale the data as shown in:\n",
            "    https://scikit-learn.org/stable/modules/preprocessing.html\n",
            "Please also refer to the documentation for alternative solver options:\n",
            "    https://scikit-learn.org/stable/modules/linear_model.html#logistic-regression\n",
            "  extra_warning_msg=_LOGISTIC_SOLVER_CONVERGENCE_MSG,\n"
          ]
        },
        {
          "output_type": "execute_result",
          "data": {
            "text/plain": [
              "LogisticRegression()"
            ]
          },
          "metadata": {},
          "execution_count": 567
        }
      ],
      "source": [
        "# Creating instance\n",
        "lrc = LogisticRegression()\n",
        "\n",
        "# fit the dataset\n",
        "lrc.fit(X_train, y_train)"
      ]
    },
    {
      "cell_type": "code",
      "execution_count": 568,
      "id": "4b96bddb",
      "metadata": {
        "id": "4b96bddb"
      },
      "outputs": [],
      "source": [
        "# predicting the output\n",
        "lrc_pred = lrc.predict(X_test)"
      ]
    },
    {
      "cell_type": "code",
      "execution_count": 569,
      "id": "4e8d8cab",
      "metadata": {
        "colab": {
          "base_uri": "https://localhost:8080/"
        },
        "id": "4e8d8cab",
        "outputId": "09e30abd-5875-4735-b965-08482feb3325"
      },
      "outputs": [
        {
          "output_type": "stream",
          "name": "stdout",
          "text": [
            "The test accuracy score: 0.9333333333333333\n",
            "======================================\n",
            "r2 Score: 0.6693121693121693\n",
            "======================================\n",
            "              precision    recall  f1-score   support\n",
            "\n",
            "           0       0.83      0.95      0.89        21\n",
            "           1       0.98      0.93      0.95        54\n",
            "\n",
            "    accuracy                           0.93        75\n",
            "   macro avg       0.91      0.94      0.92        75\n",
            "weighted avg       0.94      0.93      0.93        75\n",
            "\n"
          ]
        }
      ],
      "source": [
        "# model evaluation\n",
        "print(f\"The test accuracy score: {metrics.accuracy_score(y_test, lrc_pred)}\")\n",
        "print('======================================')\n",
        "print(f'r2 Score: {metrics.r2_score(y_test, lrc_pred)}')\n",
        "print('======================================')\n",
        "print(metrics.classification_report(y_test, lrc_pred))"
      ]
    },
    {
      "cell_type": "markdown",
      "id": "9056fc35",
      "metadata": {
        "id": "9056fc35"
      },
      "source": [
        "##### Support Vector Machine (svc)"
      ]
    },
    {
      "cell_type": "code",
      "execution_count": 570,
      "id": "51548022",
      "metadata": {
        "colab": {
          "base_uri": "https://localhost:8080/"
        },
        "id": "51548022",
        "outputId": "83326414-289e-4239-d7ff-2eecbc1e7324"
      },
      "outputs": [
        {
          "output_type": "execute_result",
          "data": {
            "text/plain": [
              "SVC()"
            ]
          },
          "metadata": {},
          "execution_count": 570
        }
      ],
      "source": [
        "# creating instance keeping all parameter default\n",
        "svc = SVC()\n",
        "\n",
        "# fitting data\n",
        "svc.fit(X_train, y_train)"
      ]
    },
    {
      "cell_type": "code",
      "execution_count": 571,
      "id": "6d4a55af",
      "metadata": {
        "id": "6d4a55af"
      },
      "outputs": [],
      "source": [
        "# predicting the output\n",
        "svc_pred = svc.predict(X_test)"
      ]
    },
    {
      "cell_type": "code",
      "execution_count": 572,
      "id": "97cdadfb",
      "metadata": {
        "colab": {
          "base_uri": "https://localhost:8080/"
        },
        "id": "97cdadfb",
        "outputId": "9900be35-dec7-4d45-c15a-1a10a6833c80"
      },
      "outputs": [
        {
          "output_type": "stream",
          "name": "stdout",
          "text": [
            "The test accuracy score: 0.6533333333333333\n",
            "======================================\n",
            "r2 Score: -0.7195767195767198\n",
            "======================================\n",
            "              precision    recall  f1-score   support\n",
            "\n",
            "           0       0.22      0.10      0.13        21\n",
            "           1       0.71      0.87      0.78        54\n",
            "\n",
            "    accuracy                           0.65        75\n",
            "   macro avg       0.47      0.48      0.46        75\n",
            "weighted avg       0.57      0.65      0.60        75\n",
            "\n"
          ]
        }
      ],
      "source": [
        "# model evaluation\n",
        "print(f\"The test accuracy score: {metrics.accuracy_score(y_test, svc_pred)}\")\n",
        "print('======================================')\n",
        "print(f'r2 Score: {metrics.r2_score(y_test, svc_pred)}')\n",
        "print('======================================')\n",
        "print(metrics.classification_report(y_test, svc_pred))"
      ]
    },
    {
      "cell_type": "markdown",
      "id": "1924a78f",
      "metadata": {
        "id": "1924a78f"
      },
      "source": [
        "# All Model Evaluation"
      ]
    },
    {
      "cell_type": "code",
      "execution_count": 573,
      "id": "5eb64e92",
      "metadata": {
        "id": "5eb64e92"
      },
      "outputs": [],
      "source": [
        "# performance of each model\n",
        "performance_dict = {'Accuracy':[metrics.accuracy_score(y_test, rfc_pred),\n",
        "                                metrics.accuracy_score(y_test, lrc_pred),\n",
        "                               metrics.accuracy_score(y_test, svc_pred),\n",
        "                              ]}"
      ]
    },
    {
      "cell_type": "code",
      "execution_count": 574,
      "id": "18d1916b",
      "metadata": {
        "colab": {
          "base_uri": "https://localhost:8080/",
          "height": 143
        },
        "id": "18d1916b",
        "outputId": "06c5fa60-3eb7-4cb2-8ecd-f735188ec8e8"
      },
      "outputs": [
        {
          "output_type": "execute_result",
          "data": {
            "text/plain": [
              "                        Accuracy\n",
              "Random Forest           1.000000\n",
              "Logistic Regression     0.933333\n",
              "Support Vactor Machine  0.653333"
            ],
            "text/html": [
              "\n",
              "  <div id=\"df-a95dad4e-ca96-4035-a06d-7410a46ac882\">\n",
              "    <div class=\"colab-df-container\">\n",
              "      <div>\n",
              "<style scoped>\n",
              "    .dataframe tbody tr th:only-of-type {\n",
              "        vertical-align: middle;\n",
              "    }\n",
              "\n",
              "    .dataframe tbody tr th {\n",
              "        vertical-align: top;\n",
              "    }\n",
              "\n",
              "    .dataframe thead th {\n",
              "        text-align: right;\n",
              "    }\n",
              "</style>\n",
              "<table border=\"1\" class=\"dataframe\">\n",
              "  <thead>\n",
              "    <tr style=\"text-align: right;\">\n",
              "      <th></th>\n",
              "      <th>Accuracy</th>\n",
              "    </tr>\n",
              "  </thead>\n",
              "  <tbody>\n",
              "    <tr>\n",
              "      <th>Random Forest</th>\n",
              "      <td>1.000000</td>\n",
              "    </tr>\n",
              "    <tr>\n",
              "      <th>Logistic Regression</th>\n",
              "      <td>0.933333</td>\n",
              "    </tr>\n",
              "    <tr>\n",
              "      <th>Support Vactor Machine</th>\n",
              "      <td>0.653333</td>\n",
              "    </tr>\n",
              "  </tbody>\n",
              "</table>\n",
              "</div>\n",
              "      <button class=\"colab-df-convert\" onclick=\"convertToInteractive('df-a95dad4e-ca96-4035-a06d-7410a46ac882')\"\n",
              "              title=\"Convert this dataframe to an interactive table.\"\n",
              "              style=\"display:none;\">\n",
              "        \n",
              "  <svg xmlns=\"http://www.w3.org/2000/svg\" height=\"24px\"viewBox=\"0 0 24 24\"\n",
              "       width=\"24px\">\n",
              "    <path d=\"M0 0h24v24H0V0z\" fill=\"none\"/>\n",
              "    <path d=\"M18.56 5.44l.94 2.06.94-2.06 2.06-.94-2.06-.94-.94-2.06-.94 2.06-2.06.94zm-11 1L8.5 8.5l.94-2.06 2.06-.94-2.06-.94L8.5 2.5l-.94 2.06-2.06.94zm10 10l.94 2.06.94-2.06 2.06-.94-2.06-.94-.94-2.06-.94 2.06-2.06.94z\"/><path d=\"M17.41 7.96l-1.37-1.37c-.4-.4-.92-.59-1.43-.59-.52 0-1.04.2-1.43.59L10.3 9.45l-7.72 7.72c-.78.78-.78 2.05 0 2.83L4 21.41c.39.39.9.59 1.41.59.51 0 1.02-.2 1.41-.59l7.78-7.78 2.81-2.81c.8-.78.8-2.07 0-2.86zM5.41 20L4 18.59l7.72-7.72 1.47 1.35L5.41 20z\"/>\n",
              "  </svg>\n",
              "      </button>\n",
              "      \n",
              "  <style>\n",
              "    .colab-df-container {\n",
              "      display:flex;\n",
              "      flex-wrap:wrap;\n",
              "      gap: 12px;\n",
              "    }\n",
              "\n",
              "    .colab-df-convert {\n",
              "      background-color: #E8F0FE;\n",
              "      border: none;\n",
              "      border-radius: 50%;\n",
              "      cursor: pointer;\n",
              "      display: none;\n",
              "      fill: #1967D2;\n",
              "      height: 32px;\n",
              "      padding: 0 0 0 0;\n",
              "      width: 32px;\n",
              "    }\n",
              "\n",
              "    .colab-df-convert:hover {\n",
              "      background-color: #E2EBFA;\n",
              "      box-shadow: 0px 1px 2px rgba(60, 64, 67, 0.3), 0px 1px 3px 1px rgba(60, 64, 67, 0.15);\n",
              "      fill: #174EA6;\n",
              "    }\n",
              "\n",
              "    [theme=dark] .colab-df-convert {\n",
              "      background-color: #3B4455;\n",
              "      fill: #D2E3FC;\n",
              "    }\n",
              "\n",
              "    [theme=dark] .colab-df-convert:hover {\n",
              "      background-color: #434B5C;\n",
              "      box-shadow: 0px 1px 3px 1px rgba(0, 0, 0, 0.15);\n",
              "      filter: drop-shadow(0px 1px 2px rgba(0, 0, 0, 0.3));\n",
              "      fill: #FFFFFF;\n",
              "    }\n",
              "  </style>\n",
              "\n",
              "      <script>\n",
              "        const buttonEl =\n",
              "          document.querySelector('#df-a95dad4e-ca96-4035-a06d-7410a46ac882 button.colab-df-convert');\n",
              "        buttonEl.style.display =\n",
              "          google.colab.kernel.accessAllowed ? 'block' : 'none';\n",
              "\n",
              "        async function convertToInteractive(key) {\n",
              "          const element = document.querySelector('#df-a95dad4e-ca96-4035-a06d-7410a46ac882');\n",
              "          const dataTable =\n",
              "            await google.colab.kernel.invokeFunction('convertToInteractive',\n",
              "                                                     [key], {});\n",
              "          if (!dataTable) return;\n",
              "\n",
              "          const docLinkHtml = 'Like what you see? Visit the ' +\n",
              "            '<a target=\"_blank\" href=https://colab.research.google.com/notebooks/data_table.ipynb>data table notebook</a>'\n",
              "            + ' to learn more about interactive tables.';\n",
              "          element.innerHTML = '';\n",
              "          dataTable['output_type'] = 'display_data';\n",
              "          await google.colab.output.renderOutput(dataTable, element);\n",
              "          const docLink = document.createElement('div');\n",
              "          docLink.innerHTML = docLinkHtml;\n",
              "          element.appendChild(docLink);\n",
              "        }\n",
              "      </script>\n",
              "    </div>\n",
              "  </div>\n",
              "  "
            ]
          },
          "metadata": {},
          "execution_count": 574
        }
      ],
      "source": [
        "# performance dataframe\n",
        "performance_data = pd.DataFrame(data = performance_dict, index=['Random Forest', 'Logistic Regression',\n",
        "                                                               'Support Vactor Machine'])\n",
        "\n",
        "performance_data"
      ]
    },
    {
      "cell_type": "code",
      "execution_count": 575,
      "id": "42afc06e",
      "metadata": {
        "colab": {
          "base_uri": "https://localhost:8080/",
          "height": 570
        },
        "id": "42afc06e",
        "outputId": "a3ff811c-ed2f-40e0-d0ae-e3b2c15e181e"
      },
      "outputs": [
        {
          "output_type": "display_data",
          "data": {
            "text/plain": [
              "<Figure size 720x504 with 1 Axes>"
            ],
            "image/png": "[encoded data removed]"
          },
          "metadata": {
            "needs_background": "light"
          }
        }
      ],
      "source": [
        "# plot the performance\n",
        "performance_data.plot(kind = 'bar', figsize = (10,7))\n",
        "plt.axhline(y = 1, color = 'red')\n",
        "plt.title('Model vs Accuracy')\n",
        "plt.xlabel('Models')\n",
        "plt.ylabel('Accuracy')\n",
        "plt.legend(loc = (1,1))\n",
        "plt.show()"
      ]
    },
    {
      "cell_type": "markdown",
      "id": "00be4ea1",
      "metadata": {
        "id": "00be4ea1"
      },
      "source": [
        "Here we can that, ensemble and tree based algorithm performns very well. We see that Random Forest classifier performs very well. It got accuracy of 100%. but we are not sure that either the model is generalized. Now, let's check if the model is generalized or not and try to find optimium parameters for the model."
      ]
    },
    {
      "cell_type": "markdown",
      "id": "1db01cba",
      "metadata": {
        "id": "1db01cba"
      },
      "source": [
        "#### Model Optimization/ Hyper parameter Tuning"
      ]
    },
    {
      "cell_type": "code",
      "execution_count": 576,
      "id": "4cc156b8",
      "metadata": {
        "colab": {
          "base_uri": "https://localhost:8080/"
        },
        "id": "4cc156b8",
        "outputId": "b4046b33-3359-4f33-ed59-ff95a95ad247"
      },
      "outputs": [
        {
          "output_type": "stream",
          "name": "stdout",
          "text": [
            "Cross Validation Scores are [1.         1.         1.         0.9        0.93333333 0.96666667\n",
            " 0.96666667 1.         0.93333333 1.        ]\n",
            "Average Cross Validation score :0.97\n"
          ]
        }
      ],
      "source": [
        "# Apply cross validation\n",
        "kf=KFold(n_splits=10)\n",
        "score=cross_val_score(rfc, X, y, cv=kf)\n",
        "\n",
        "# view result\n",
        "print(\"Cross Validation Scores are {}\".format(score))\n",
        "print(\"Average Cross Validation score :{}\".format(score.mean()))"
      ]
    },
    {
      "cell_type": "markdown",
      "id": "b597b032",
      "metadata": {
        "id": "b597b032"
      },
      "source": [
        "Here with different dataset the model performs differently and the mean result decrease almost 2.5%. Now, let's do parameter tuning so that it can be generalized"
      ]
    },
    {
      "cell_type": "code",
      "execution_count": 577,
      "id": "b3ae31e8",
      "metadata": {
        "id": "b3ae31e8"
      },
      "outputs": [],
      "source": [
        "# Creating parameters\n",
        "n_estimators= [70, 100, 250, 500, 1000,1500]\n",
        "criterion=['gini', 'entropy']\n",
        "min_samples_split= [2, 5, 7]\n",
        "min_samples_leaf = [1, 2, 3, 5]\n",
        "max_depth = [3, 5, 9, 10, 11, None]\n",
        "max_features=[0.25, 0.5, 1, None]\n",
        "max_leaf_nodes=[5, 10, 25, None]\n",
        "\n",
        "# Creating parameter dictionary\n",
        "\n",
        "\n",
        "params = {\n",
        "    'n_estimators': n_estimators,\n",
        "    'criterion': criterion,\n",
        "    'min_samples_split': min_samples_split,\n",
        "    'min_samples_leaf': min_samples_leaf,\n",
        "    'max_depth': max_depth,\n",
        "    'max_features': max_features,\n",
        "    'max_leaf_nodes': max_leaf_nodes\n",
        "\n",
        "}"
      ]
    },
    {
      "cell_type": "code",
      "execution_count": 578,
      "id": "0c6a6d15",
      "metadata": {
        "id": "0c6a6d15"
      },
      "outputs": [],
      "source": [
        "# creating instance of random forest classifier\n",
        "rfc_f = RandomForestClassifier()"
      ]
    },
    {
      "cell_type": "code",
      "execution_count": 579,
      "id": "0d880e46",
      "metadata": {
        "id": "0d880e46"
      },
      "outputs": [],
      "source": [
        "# Creating instance of RandomizedSearchCV\n",
        "rfc_f_search = RandomizedSearchCV(rfc_f, param_distributions=params, cv = kf, verbose=2, scoring = 'roc_auc', n_iter=5)"
      ]
    },
    {
      "cell_type": "code",
      "execution_count": 580,
      "id": "17dd7378",
      "metadata": {
        "colab": {
          "base_uri": "https://localhost:8080/"
        },
        "id": "17dd7378",
        "outputId": "3c810023-9fd1-4ed2-ef94-80469b1c4b41"
      },
      "outputs": [
        {
          "output_type": "stream",
          "name": "stdout",
          "text": [
            "Fitting 10 folds for each of 5 candidates, totalling 50 fits\n",
            "[CV] END criterion=entropy, max_depth=10, max_features=0.5, max_leaf_nodes=25, min_samples_leaf=3, min_samples_split=2, n_estimators=500; total time=   0.8s\n",
            "[CV] END criterion=entropy, max_depth=10, max_features=0.5, max_leaf_nodes=25, min_samples_leaf=3, min_samples_split=2, n_estimators=500; total time=   0.8s\n",
            "[CV] END criterion=entropy, max_depth=10, max_features=0.5, max_leaf_nodes=25, min_samples_leaf=3, min_samples_split=2, n_estimators=500; total time=   0.8s\n",
            "[CV] END criterion=entropy, max_depth=10, max_features=0.5, max_leaf_nodes=25, min_samples_leaf=3, min_samples_split=2, n_estimators=500; total time=   0.8s\n",
            "[CV] END criterion=entropy, max_depth=10, max_features=0.5, max_leaf_nodes=25, min_samples_leaf=3, min_samples_split=2, n_estimators=500; total time=   0.8s\n",
            "[CV] END criterion=entropy, max_depth=10, max_features=0.5, max_leaf_nodes=25, min_samples_leaf=3, min_samples_split=2, n_estimators=500; total time=   0.8s\n",
            "[CV] END criterion=entropy, max_depth=10, max_features=0.5, max_leaf_nodes=25, min_samples_leaf=3, min_samples_split=2, n_estimators=500; total time=   0.8s\n",
            "[CV] END criterion=entropy, max_depth=10, max_features=0.5, max_leaf_nodes=25, min_samples_leaf=3, min_samples_split=2, n_estimators=500; total time=   0.8s\n",
            "[CV] END criterion=entropy, max_depth=10, max_features=0.5, max_leaf_nodes=25, min_samples_leaf=3, min_samples_split=2, n_estimators=500; total time=   0.8s\n",
            "[CV] END criterion=entropy, max_depth=10, max_features=0.5, max_leaf_nodes=25, min_samples_leaf=3, min_samples_split=2, n_estimators=500; total time=   0.8s\n",
            "[CV] END criterion=gini, max_depth=None, max_features=1, max_leaf_nodes=None, min_samples_leaf=2, min_samples_split=7, n_estimators=250; total time=   0.4s\n",
            "[CV] END criterion=gini, max_depth=None, max_features=1, max_leaf_nodes=None, min_samples_leaf=2, min_samples_split=7, n_estimators=250; total time=   0.4s\n",
            "[CV] END criterion=gini, max_depth=None, max_features=1, max_leaf_nodes=None, min_samples_leaf=2, min_samples_split=7, n_estimators=250; total time=   0.4s\n",
            "[CV] END criterion=gini, max_depth=None, max_features=1, max_leaf_nodes=None, min_samples_leaf=2, min_samples_split=7, n_estimators=250; total time=   0.4s\n",
            "[CV] END criterion=gini, max_depth=None, max_features=1, max_leaf_nodes=None, min_samples_leaf=2, min_samples_split=7, n_estimators=250; total time=   0.4s\n",
            "[CV] END criterion=gini, max_depth=None, max_features=1, max_leaf_nodes=None, min_samples_leaf=2, min_samples_split=7, n_estimators=250; total time=   0.4s\n",
            "[CV] END criterion=gini, max_depth=None, max_features=1, max_leaf_nodes=None, min_samples_leaf=2, min_samples_split=7, n_estimators=250; total time=   0.4s\n",
            "[CV] END criterion=gini, max_depth=None, max_features=1, max_leaf_nodes=None, min_samples_leaf=2, min_samples_split=7, n_estimators=250; total time=   0.4s\n",
            "[CV] END criterion=gini, max_depth=None, max_features=1, max_leaf_nodes=None, min_samples_leaf=2, min_samples_split=7, n_estimators=250; total time=   0.4s\n",
            "[CV] END criterion=gini, max_depth=None, max_features=1, max_leaf_nodes=None, min_samples_leaf=2, min_samples_split=7, n_estimators=250; total time=   0.4s\n",
            "[CV] END criterion=gini, max_depth=5, max_features=None, max_leaf_nodes=5, min_samples_leaf=5, min_samples_split=2, n_estimators=1000; total time=   1.6s\n",
            "[CV] END criterion=gini, max_depth=5, max_features=None, max_leaf_nodes=5, min_samples_leaf=5, min_samples_split=2, n_estimators=1000; total time=   1.6s\n",
            "[CV] END criterion=gini, max_depth=5, max_features=None, max_leaf_nodes=5, min_samples_leaf=5, min_samples_split=2, n_estimators=1000; total time=   1.6s\n",
            "[CV] END criterion=gini, max_depth=5, max_features=None, max_leaf_nodes=5, min_samples_leaf=5, min_samples_split=2, n_estimators=1000; total time=   1.5s\n",
            "[CV] END criterion=gini, max_depth=5, max_features=None, max_leaf_nodes=5, min_samples_leaf=5, min_samples_split=2, n_estimators=1000; total time=   1.5s\n",
            "[CV] END criterion=gini, max_depth=5, max_features=None, max_leaf_nodes=5, min_samples_leaf=5, min_samples_split=2, n_estimators=1000; total time=   1.6s\n",
            "[CV] END criterion=gini, max_depth=5, max_features=None, max_leaf_nodes=5, min_samples_leaf=5, min_samples_split=2, n_estimators=1000; total time=   1.6s\n",
            "[CV] END criterion=gini, max_depth=5, max_features=None, max_leaf_nodes=5, min_samples_leaf=5, min_samples_split=2, n_estimators=1000; total time=   1.6s\n",
            "[CV] END criterion=gini, max_depth=5, max_features=None, max_leaf_nodes=5, min_samples_leaf=5, min_samples_split=2, n_estimators=1000; total time=   1.6s\n",
            "[CV] END criterion=gini, max_depth=5, max_features=None, max_leaf_nodes=5, min_samples_leaf=5, min_samples_split=2, n_estimators=1000; total time=   1.5s\n",
            "[CV] END criterion=entropy, max_depth=9, max_features=1, max_leaf_nodes=None, min_samples_leaf=5, min_samples_split=2, n_estimators=250; total time=   0.4s\n",
            "[CV] END criterion=entropy, max_depth=9, max_features=1, max_leaf_nodes=None, min_samples_leaf=5, min_samples_split=2, n_estimators=250; total time=   0.4s\n",
            "[CV] END criterion=entropy, max_depth=9, max_features=1, max_leaf_nodes=None, min_samples_leaf=5, min_samples_split=2, n_estimators=250; total time=   0.4s\n",
            "[CV] END criterion=entropy, max_depth=9, max_features=1, max_leaf_nodes=None, min_samples_leaf=5, min_samples_split=2, n_estimators=250; total time=   0.4s\n",
            "[CV] END criterion=entropy, max_depth=9, max_features=1, max_leaf_nodes=None, min_samples_leaf=5, min_samples_split=2, n_estimators=250; total time=   0.4s\n",
            "[CV] END criterion=entropy, max_depth=9, max_features=1, max_leaf_nodes=None, min_samples_leaf=5, min_samples_split=2, n_estimators=250; total time=   0.4s\n",
            "[CV] END criterion=entropy, max_depth=9, max_features=1, max_leaf_nodes=None, min_samples_leaf=5, min_samples_split=2, n_estimators=250; total time=   0.4s\n",
            "[CV] END criterion=entropy, max_depth=9, max_features=1, max_leaf_nodes=None, min_samples_leaf=5, min_samples_split=2, n_estimators=250; total time=   0.4s\n",
            "[CV] END criterion=entropy, max_depth=9, max_features=1, max_leaf_nodes=None, min_samples_leaf=5, min_samples_split=2, n_estimators=250; total time=   0.4s\n",
            "[CV] END criterion=entropy, max_depth=9, max_features=1, max_leaf_nodes=None, min_samples_leaf=5, min_samples_split=2, n_estimators=250; total time=   0.4s\n",
            "[CV] END criterion=entropy, max_depth=3, max_features=0.5, max_leaf_nodes=25, min_samples_leaf=1, min_samples_split=5, n_estimators=100; total time=   0.2s\n",
            "[CV] END criterion=entropy, max_depth=3, max_features=0.5, max_leaf_nodes=25, min_samples_leaf=1, min_samples_split=5, n_estimators=100; total time=   0.2s\n",
            "[CV] END criterion=entropy, max_depth=3, max_features=0.5, max_leaf_nodes=25, min_samples_leaf=1, min_samples_split=5, n_estimators=100; total time=   0.2s\n",
            "[CV] END criterion=entropy, max_depth=3, max_features=0.5, max_leaf_nodes=25, min_samples_leaf=1, min_samples_split=5, n_estimators=100; total time=   0.2s\n",
            "[CV] END criterion=entropy, max_depth=3, max_features=0.5, max_leaf_nodes=25, min_samples_leaf=1, min_samples_split=5, n_estimators=100; total time=   0.2s\n",
            "[CV] END criterion=entropy, max_depth=3, max_features=0.5, max_leaf_nodes=25, min_samples_leaf=1, min_samples_split=5, n_estimators=100; total time=   0.2s\n",
            "[CV] END criterion=entropy, max_depth=3, max_features=0.5, max_leaf_nodes=25, min_samples_leaf=1, min_samples_split=5, n_estimators=100; total time=   0.2s\n",
            "[CV] END criterion=entropy, max_depth=3, max_features=0.5, max_leaf_nodes=25, min_samples_leaf=1, min_samples_split=5, n_estimators=100; total time=   0.2s\n",
            "[CV] END criterion=entropy, max_depth=3, max_features=0.5, max_leaf_nodes=25, min_samples_leaf=1, min_samples_split=5, n_estimators=100; total time=   0.2s\n",
            "[CV] END criterion=entropy, max_depth=3, max_features=0.5, max_leaf_nodes=25, min_samples_leaf=1, min_samples_split=5, n_estimators=100; total time=   0.2s\n"
          ]
        },
        {
          "output_type": "execute_result",
          "data": {
            "text/plain": [
              "RandomizedSearchCV(cv=KFold(n_splits=10, random_state=None, shuffle=False),\n",
              "                   estimator=RandomForestClassifier(), n_iter=5,\n",
              "                   param_distributions={'criterion': ['gini', 'entropy'],\n",
              "                                        'max_depth': [3, 5, 9, 10, 11, None],\n",
              "                                        'max_features': [0.25, 0.5, 1, None],\n",
              "                                        'max_leaf_nodes': [5, 10, 25, None],\n",
              "                                        'min_samples_leaf': [1, 2, 3, 5],\n",
              "                                        'min_samples_split': [2, 5, 7],\n",
              "                                        'n_estimators': [70, 100, 250, 500,\n",
              "                                                         1000, 1500]},\n",
              "                   scoring='roc_auc', verbose=2)"
            ]
          },
          "metadata": {},
          "execution_count": 580
        }
      ],
      "source": [
        "# Fitting train data\n",
        "rfc_f_search.fit(X_train, y_train)"
      ]
    },
    {
      "cell_type": "code",
      "execution_count": 581,
      "id": "32f09931",
      "metadata": {
        "colab": {
          "base_uri": "https://localhost:8080/"
        },
        "id": "32f09931",
        "outputId": "2a6fe343-d453-4037-b40e-b79309cf4e80"
      },
      "outputs": [
        {
          "output_type": "execute_result",
          "data": {
            "text/plain": [
              "{'criterion': 'entropy',\n",
              " 'max_depth': 10,\n",
              " 'max_features': 0.5,\n",
              " 'max_leaf_nodes': 25,\n",
              " 'min_samples_leaf': 3,\n",
              " 'min_samples_split': 2,\n",
              " 'n_estimators': 500}"
            ]
          },
          "metadata": {},
          "execution_count": 581
        }
      ],
      "source": [
        "# getting best parameters\n",
        "rfc_f_search.best_params_"
      ]
    },
    {
      "cell_type": "code",
      "source": [
        "# building final model\n",
        "rfc_f = RandomForestClassifier(criterion='entropy', max_depth=9, max_features=1, max_leaf_nodes=25, min_samples_leaf=1, \n",
        "                               min_samples_split=7, n_estimators=500, random_state=0)\n",
        "\n",
        "rfc_f.fit(X_train, y_train)"
      ],
      "metadata": {
        "colab": {
          "base_uri": "https://localhost:8080/"
        },
        "id": "wbiT76b4P_Mv",
        "outputId": "f7247bc4-459d-495b-d668-e41efb2f503d"
      },
      "id": "wbiT76b4P_Mv",
      "execution_count": 601,
      "outputs": [
        {
          "output_type": "execute_result",
          "data": {
            "text/plain": [
              "RandomForestClassifier(criterion='entropy', max_depth=9, max_features=1,\n",
              "                       max_leaf_nodes=25, min_samples_split=7, n_estimators=500,\n",
              "                       random_state=0)"
            ]
          },
          "metadata": {},
          "execution_count": 601
        }
      ]
    },
    {
      "cell_type": "code",
      "source": [
        "# predicting\n",
        "pred_rfc = rfc_f.predict(X_test)"
      ],
      "metadata": {
        "id": "4AYFJIh3Aw30"
      },
      "id": "4AYFJIh3Aw30",
      "execution_count": 602,
      "outputs": []
    },
    {
      "cell_type": "code",
      "source": [
        "# model evaluation\n",
        "print(f\"The test accuracy score: {metrics.accuracy_score(y_test, pred_rfc)}\")\n",
        "print('======================================')\n",
        "print(f'r2 Score: {metrics.r2_score(y_test, pred_rfc)}')\n",
        "print('======================================')\n",
        "print(metrics.classification_report(y_test, pred_rfc))"
      ],
      "metadata": {
        "colab": {
          "base_uri": "https://localhost:8080/"
        },
        "id": "Y_VzKbCnAw-Q",
        "outputId": "3f03bb7e-7e88-48d0-8e02-68d2b075d222"
      },
      "id": "Y_VzKbCnAw-Q",
      "execution_count": 603,
      "outputs": [
        {
          "output_type": "stream",
          "name": "stdout",
          "text": [
            "The test accuracy score: 0.9866666666666667\n",
            "======================================\n",
            "r2 Score: 0.9338624338624338\n",
            "======================================\n",
            "              precision    recall  f1-score   support\n",
            "\n",
            "           0       1.00      0.95      0.98        21\n",
            "           1       0.98      1.00      0.99        54\n",
            "\n",
            "    accuracy                           0.99        75\n",
            "   macro avg       0.99      0.98      0.98        75\n",
            "weighted avg       0.99      0.99      0.99        75\n",
            "\n"
          ]
        }
      ]
    },
    {
      "cell_type": "code",
      "execution_count": 604,
      "id": "51c1918f",
      "metadata": {
        "colab": {
          "base_uri": "https://localhost:8080/",
          "height": 295
        },
        "id": "51c1918f",
        "outputId": "39b729db-50ac-4017-aa6b-8dcd75e47646"
      },
      "outputs": [
        {
          "output_type": "display_data",
          "data": {
            "text/plain": [
              "<Figure size 432x288 with 2 Axes>"
            ],
            "image/png": "[encoded data removed]"
          },
          "metadata": {
            "needs_background": "light"
          }
        }
      ],
      "source": [
        "cm = metrics.confusion_matrix(y_test, pred_rfc)\n",
        "sns.heatmap(cm, annot=True)\n",
        "plt.xlabel('Predicted Values')\n",
        "plt.ylabel('Actual Values')\n",
        "plt.title('Random Forest: Confusion Matrix')\n",
        "plt.show()"
      ]
    },
    {
      "cell_type": "markdown",
      "id": "7f8cd058",
      "metadata": {
        "id": "7f8cd058"
      },
      "source": [
        "After Parameter Tuning now the Random Forest also perform better and got an accuracy of test set decreases. But this time the model should be generalized."
      ]
    },
    {
      "cell_type": "code",
      "execution_count": 605,
      "id": "74719472",
      "metadata": {
        "colab": {
          "base_uri": "https://localhost:8080/"
        },
        "id": "74719472",
        "outputId": "33e67a07-553d-43a0-cd59-28498d603032"
      },
      "outputs": [
        {
          "output_type": "execute_result",
          "data": {
            "text/plain": [
              "(75,)"
            ]
          },
          "metadata": {},
          "execution_count": 605
        }
      ],
      "source": [
        "# predict probabilities\n",
        "pred_rfc_f = rfc_f.predict_proba(X_test)[:,1]\n",
        "pred_rfc_f.shape"
      ]
    },
    {
      "cell_type": "code",
      "execution_count": 606,
      "id": "d2d05c06",
      "metadata": {
        "id": "d2d05c06"
      },
      "outputs": [],
      "source": [
        "# AUC-ROC curve\n",
        "\n",
        "fpr, tpr, thresholds = roc_curve(y_test, pred_rfc_f)\n",
        "auroc = roc_auc_score(y_test, pred_rfc_f)"
      ]
    },
    {
      "cell_type": "code",
      "execution_count": 607,
      "id": "ff17a46b",
      "metadata": {
        "colab": {
          "base_uri": "https://localhost:8080/",
          "height": 295
        },
        "id": "ff17a46b",
        "outputId": "10a93bd7-5a5c-41cd-dffa-db7224ce8f8c"
      },
      "outputs": [
        {
          "output_type": "display_data",
          "data": {
            "text/plain": [
              "<Figure size 432x288 with 1 Axes>"
            ],
            "image/png": "[encoded data removed]"
          },
          "metadata": {
            "needs_background": "light"
          }
        }
      ],
      "source": [
        "# Plot ROC curve\n",
        "plt.plot(fpr, fpr, color = 'k')\n",
        "plt.plot(fpr, tpr, linestyle='--',color='green', label='Random Forest, AUC = %0.2f'%auroc)\n",
        "\n",
        "plt.title('ROC Curve for Random Forest')\n",
        "plt.xlabel('False Positive Rate')\n",
        "plt.ylabel('True Positive rate')\n",
        "plt.legend(loc='best')\n",
        "plt.show();"
      ]
    },
    {
      "cell_type": "markdown",
      "id": "711ada8d",
      "metadata": {
        "id": "711ada8d"
      },
      "source": [
        "Here we can see that the model learn quickly as the value goes from 0 to 1 very quickly. Hense the model can perform well and it is able to detect negative as negative and positive as positive."
      ]
    },
    {
      "cell_type": "markdown",
      "source": [
        "Plotting validation curves for each hyper parameter"
      ],
      "metadata": {
        "id": "07zRqkrvk3T_"
      },
      "id": "07zRqkrvk3T_"
    },
    {
      "cell_type": "markdown",
      "source": [
        "Maximum Depth"
      ],
      "metadata": {
        "id": "GNfAuk2raHpu"
      },
      "id": "GNfAuk2raHpu"
    },
    {
      "cell_type": "code",
      "source": [
        "#Plotting the validation curve of training and testing scores for max_depth\n",
        "from sklearn.model_selection import validation_curve\n",
        "param_range= max_depth\n",
        "train_scores, test_scores = validation_curve(\n",
        "                                RandomForestClassifier(),\n",
        "                                X = X_train, y = y_train, \n",
        "                                param_name = 'max_depth', \n",
        "                                param_range = param_range, cv = kf)"
      ],
      "metadata": {
        "id": "f3TGEKyHaG9G"
      },
      "id": "f3TGEKyHaG9G",
      "execution_count": 608,
      "outputs": []
    },
    {
      "cell_type": "code",
      "source": [
        "#Calculate mean and standard deviation for training set\n",
        "train_mean = np.mean(train_scores, axis=1)\n",
        "train_std = np.std(train_scores, axis=1)\n",
        "\n",
        "#Calculate mean and standard deviation for testing set\n",
        "test_mean = np.mean(test_scores, axis=1)\n",
        "test_std = np.std(test_scores, axis=1)\n",
        "\n",
        "#Plot mean accuracy scores for training and testing sets\n",
        "plt.plot(param_range, train_mean, label=\"Training accuracy\", color=\"black\")\n",
        "plt.plot(param_range, test_mean, label=\"Test accuracy\", color=\"blue\")\n",
        "\n",
        "#Create plot\n",
        "plt.title(\"Validation Curve of Maximum Depth for Random Forest\")\n",
        "plt.xlabel(\"Value of Maximum Depth\")\n",
        "plt.ylabel(\"Accuracy\")\n",
        "plt.tight_layout()\n",
        "plt.legend(loc=\"best\")\n",
        "plt.show()"
      ],
      "metadata": {
        "colab": {
          "base_uri": "https://localhost:8080/",
          "height": 297
        },
        "id": "5ZCpdDanadrm",
        "outputId": "3ff49939-5281-4ec1-80e4-bff22d69fd84"
      },
      "id": "5ZCpdDanadrm",
      "execution_count": 609,
      "outputs": [
        {
          "output_type": "display_data",
          "data": {
            "text/plain": [
              "<Figure size 432x288 with 1 Axes>"
            ],
            "image/png": "[encoded data removed]"
          },
          "metadata": {
            "needs_background": "light"
          }
        }
      ]
    },
    {
      "cell_type": "markdown",
      "source": [
        "N Estimators"
      ],
      "metadata": {
        "id": "Nb_0aSFVk7AD"
      },
      "id": "Nb_0aSFVk7AD"
    },
    {
      "cell_type": "code",
      "source": [
        "#Plotting the validation curve of training and testing scores for n_estimators\n",
        "from sklearn.model_selection import validation_curve\n",
        "param_range= n_estimators\n",
        "train_scores, test_scores = validation_curve(\n",
        "                                RandomForestClassifier(),\n",
        "                                X = X_train, y = y_train, \n",
        "                                param_name = 'n_estimators', \n",
        "                                param_range = param_range, cv = kf)"
      ],
      "metadata": {
        "id": "5ya4KMDUwkhX"
      },
      "id": "5ya4KMDUwkhX",
      "execution_count": 610,
      "outputs": []
    },
    {
      "cell_type": "code",
      "source": [
        "#Calculate mean and standard deviation for training set\n",
        "train_mean = np.mean(train_scores, axis=1)\n",
        "train_std = np.std(train_scores, axis=1)\n",
        "\n",
        "#Calculate mean and standard deviation for testing set\n",
        "test_mean = np.mean(test_scores, axis=1)\n",
        "test_std = np.std(test_scores, axis=1)\n",
        "\n",
        "#Plot mean accuracy scores for training and testing sets\n",
        "plt.plot(param_range, train_mean, label=\"Training accuracy\", color=\"black\")\n",
        "plt.plot(param_range, test_mean, label=\"Test accuracy\", color=\"blue\")\n",
        "\n",
        "#Create plot\n",
        "plt.title(\"Validation Curve of N Estimators for Random Forest\")\n",
        "plt.xlabel(\"Value of N Estimators\")\n",
        "plt.ylabel(\"Accuracy\")\n",
        "plt.tight_layout()\n",
        "plt.legend(loc=\"best\")\n",
        "plt.show()"
      ],
      "metadata": {
        "colab": {
          "base_uri": "https://localhost:8080/",
          "height": 297
        },
        "id": "U68vNOfYwkl7",
        "outputId": "bcbd0fe1-b2df-48dc-84d7-0f8497509844"
      },
      "id": "U68vNOfYwkl7",
      "execution_count": 611,
      "outputs": [
        {
          "output_type": "display_data",
          "data": {
            "text/plain": [
              "<Figure size 432x288 with 1 Axes>"
            ],
            "image/png": "[encoded data removed]"
          },
          "metadata": {
            "needs_background": "light"
          }
        }
      ]
    },
    {
      "cell_type": "markdown",
      "source": [
        "Minimum Samples Split"
      ],
      "metadata": {
        "id": "8EqORIsilExu"
      },
      "id": "8EqORIsilExu"
    },
    {
      "cell_type": "code",
      "source": [
        "#Plotting the validation curve of training and testing scores for min_samples_split\n",
        "from sklearn.model_selection import validation_curve\n",
        "param_range= min_samples_split\n",
        "train_scores, test_scores = validation_curve(\n",
        "                                RandomForestClassifier(),\n",
        "                                X = X_train, y = y_train, \n",
        "                                param_name = 'min_samples_split', \n",
        "                                param_range = param_range, cv = kf)"
      ],
      "metadata": {
        "id": "SmGFE2uZwkpR"
      },
      "id": "SmGFE2uZwkpR",
      "execution_count": 615,
      "outputs": []
    },
    {
      "cell_type": "code",
      "source": [
        "#Calculate mean and standard deviation for training set\n",
        "train_mean = np.mean(train_scores, axis=1)\n",
        "train_std = np.std(train_scores, axis=1)\n",
        "\n",
        "#Calculate mean and standard deviation for testing set\n",
        "test_mean = np.mean(test_scores, axis=1)\n",
        "test_std = np.std(test_scores, axis=1)\n",
        "\n",
        "#Plot mean accuracy scores for training and testing sets\n",
        "plt.plot(param_range, train_mean, label=\"Training accuracy\", color=\"black\")\n",
        "plt.plot(param_range, test_mean, label=\"Test accuracy\", color=\"blue\")\n",
        "\n",
        "#Create plot\n",
        "plt.title(\"Validation Curve of Minimum Sample Split for Random Forest\")\n",
        "plt.xlabel(\"Value of Minimum Sample Split\")\n",
        "plt.ylabel(\"Accuracy\")\n",
        "plt.tight_layout()\n",
        "plt.legend(loc=\"best\")\n",
        "plt.show()"
      ],
      "metadata": {
        "colab": {
          "base_uri": "https://localhost:8080/",
          "height": 297
        },
        "id": "tBaUnT_klxwt",
        "outputId": "bd154623-849b-4e4c-c52e-1a74998f61e9"
      },
      "id": "tBaUnT_klxwt",
      "execution_count": 616,
      "outputs": [
        {
          "output_type": "display_data",
          "data": {
            "text/plain": [
              "<Figure size 432x288 with 1 Axes>"
            ],
            "image/png": "[encoded data removed]"
          },
          "metadata": {
            "needs_background": "light"
          }
        }
      ]
    },
    {
      "cell_type": "markdown",
      "source": [
        "Minimum Sample Leaf"
      ],
      "metadata": {
        "id": "94YoCUaMnlY6"
      },
      "id": "94YoCUaMnlY6"
    },
    {
      "cell_type": "code",
      "source": [
        "#Plotting the validation curve of training and testing scores for min_samples_leaf\n",
        "from sklearn.model_selection import validation_curve\n",
        "param_range= min_samples_leaf\n",
        "train_scores, test_scores = validation_curve(\n",
        "                                RandomForestClassifier(),\n",
        "                                X = X_train, y = y_train, \n",
        "                                param_name = 'min_samples_leaf', \n",
        "                                param_range = param_range, cv = kf)"
      ],
      "metadata": {
        "id": "qWzFIW7hnkdN"
      },
      "id": "qWzFIW7hnkdN",
      "execution_count": 617,
      "outputs": []
    },
    {
      "cell_type": "code",
      "source": [
        "#Calculate mean and standard deviation for training set\n",
        "train_mean = np.mean(train_scores, axis=1)\n",
        "train_std = np.std(train_scores, axis=1)\n",
        "\n",
        "#Calculate mean and standard deviation for testing set\n",
        "test_mean = np.mean(test_scores, axis=1)\n",
        "test_std = np.std(test_scores, axis=1)\n",
        "\n",
        "#Plot mean accuracy scores for training and testing sets\n",
        "plt.plot(param_range, train_mean, label=\"Training accuracy\", color=\"black\")\n",
        "plt.plot(param_range, test_mean, label=\"Test accuracy\", color=\"blue\")\n",
        "\n",
        "#Create plot\n",
        "plt.title(\"Validation Curve of Minimum Sample Leaf for Random Forest\")\n",
        "plt.xlabel(\"Value of Minimum Sample Leaf\")\n",
        "plt.ylabel(\"Accuracy\")\n",
        "plt.tight_layout()\n",
        "plt.legend(loc=\"best\")\n",
        "plt.show()"
      ],
      "metadata": {
        "colab": {
          "base_uri": "https://localhost:8080/",
          "height": 297
        },
        "id": "YPhX9WfAnknC",
        "outputId": "a254920b-64a7-4301-f336-d41b7f537afd"
      },
      "id": "YPhX9WfAnknC",
      "execution_count": 618,
      "outputs": [
        {
          "output_type": "display_data",
          "data": {
            "text/plain": [
              "<Figure size 432x288 with 1 Axes>"
            ],
            "image/png": "[encoded data removed]"
          },
          "metadata": {
            "needs_background": "light"
          }
        }
      ]
    },
    {
      "cell_type": "markdown",
      "source": [
        "Maximum Features"
      ],
      "metadata": {
        "id": "TQfZnIoYox3D"
      },
      "id": "TQfZnIoYox3D"
    },
    {
      "cell_type": "code",
      "source": [
        "#Plotting the validation curve of training and testing scores for max_features\n",
        "from sklearn.model_selection import validation_curve\n",
        "param_range= max_features\n",
        "train_scores, test_scores = validation_curve(\n",
        "                                RandomForestClassifier(),\n",
        "                                X = X_train, y = y_train, \n",
        "                                param_name = 'max_features', \n",
        "                                param_range = param_range, cv = kf)"
      ],
      "metadata": {
        "id": "8z-RtQeEowv2"
      },
      "id": "8z-RtQeEowv2",
      "execution_count": 619,
      "outputs": []
    },
    {
      "cell_type": "code",
      "source": [
        "#Calculate mean and standard deviation for training set\n",
        "train_mean = np.mean(train_scores, axis=1)\n",
        "train_std = np.std(train_scores, axis=1)\n",
        "\n",
        "#Calculate mean and standard deviation for testing set\n",
        "test_mean = np.mean(test_scores, axis=1)\n",
        "test_std = np.std(test_scores, axis=1)\n",
        "\n",
        "#Plot mean accuracy scores for training and testing sets\n",
        "plt.plot(param_range, train_mean, label=\"Training accuracy\", color=\"black\")\n",
        "plt.plot(param_range, test_mean, label=\"Test accuracy\", color=\"blue\")\n",
        "\n",
        "#Create plot\n",
        "plt.title(\"Validation Curve of Maximum Features for Random Forest\")\n",
        "plt.xlabel(\"Value of Maximum Features\")\n",
        "plt.ylabel(\"Accuracy\")\n",
        "plt.tight_layout()\n",
        "plt.legend(loc=\"best\")\n",
        "plt.show()"
      ],
      "metadata": {
        "colab": {
          "base_uri": "https://localhost:8080/",
          "height": 297
        },
        "id": "Z3PphpEJpQDg",
        "outputId": "0e8f1009-d4bd-4a8b-e241-1bfad2d681be"
      },
      "id": "Z3PphpEJpQDg",
      "execution_count": 620,
      "outputs": [
        {
          "output_type": "display_data",
          "data": {
            "text/plain": [
              "<Figure size 432x288 with 1 Axes>"
            ],
            "image/png": "[encoded data removed]"
          },
          "metadata": {
            "needs_background": "light"
          }
        }
      ]
    },
    {
      "cell_type": "markdown",
      "source": [
        "Maximum Leaf Nodes"
      ],
      "metadata": {
        "id": "QJ5_oXrtpvfP"
      },
      "id": "QJ5_oXrtpvfP"
    },
    {
      "cell_type": "code",
      "source": [
        "#Plotting the validation curve of training and testing scores for max_leaf_nodes\n",
        "from sklearn.model_selection import validation_curve\n",
        "param_range= max_leaf_nodes\n",
        "train_scores, test_scores = validation_curve(\n",
        "                                RandomForestClassifier(),\n",
        "                                X = X_train, y = y_train, \n",
        "                                param_name = 'max_leaf_nodes', \n",
        "                                param_range = param_range, cv = kf)"
      ],
      "metadata": {
        "id": "UOGPPhWLp0QU"
      },
      "id": "UOGPPhWLp0QU",
      "execution_count": 623,
      "outputs": []
    },
    {
      "cell_type": "code",
      "source": [
        "#Calculate mean and standard deviation for training set\n",
        "train_mean = np.mean(train_scores, axis=1)\n",
        "train_std = np.std(train_scores, axis=1)\n",
        "\n",
        "#Calculate mean and standard deviation for testing set\n",
        "test_mean = np.mean(test_scores, axis=1)\n",
        "test_std = np.std(test_scores, axis=1)\n",
        "\n",
        "#Plot mean accuracy scores for training and testing sets\n",
        "plt.plot(param_range, train_mean, label=\"Training accuracy\", color=\"black\")\n",
        "plt.plot(param_range, test_mean, label=\"Test accuracy\", color=\"blue\")\n",
        "\n",
        "#Create plot\n",
        "plt.title(\"Validation Curve of Maximum Leaf Nodes for Random Forest\")\n",
        "plt.xlabel(\"Value of Maximum Leaf Nodes\")\n",
        "plt.ylabel(\"Accuracy\")\n",
        "plt.tight_layout()\n",
        "plt.legend(loc=\"best\")\n",
        "plt.show()"
      ],
      "metadata": {
        "colab": {
          "base_uri": "https://localhost:8080/",
          "height": 297
        },
        "id": "zYeeWgEfp0Vf",
        "outputId": "d32a3804-a757-4052-b59f-eee228702d8f"
      },
      "id": "zYeeWgEfp0Vf",
      "execution_count": 624,
      "outputs": [
        {
          "output_type": "display_data",
          "data": {
            "text/plain": [
              "<Figure size 432x288 with 1 Axes>"
            ],
            "image/png": "[encoded data removed]"
          },
          "metadata": {
            "needs_background": "light"
          }
        }
      ]
    },
    {
      "cell_type": "markdown",
      "source": [
        "Logistic Regression"
      ],
      "metadata": {
        "id": "Uumzhf83yZ2k"
      },
      "id": "Uumzhf83yZ2k"
    },
    {
      "cell_type": "code",
      "source": [
        "# Creating instance\n",
        "lrc = LogisticRegression(solver='lbfgs', max_iter=500)\n",
        "\n",
        "# fit the dataset\n",
        "lrc.fit(X_train, y_train)"
      ],
      "metadata": {
        "colab": {
          "base_uri": "https://localhost:8080/"
        },
        "id": "icQ_QnR4yXNM",
        "outputId": "2328d7f6-a637-4953-8dcd-b9ec158150b1"
      },
      "id": "icQ_QnR4yXNM",
      "execution_count": 625,
      "outputs": [
        {
          "output_type": "execute_result",
          "data": {
            "text/plain": [
              "LogisticRegression(max_iter=500)"
            ]
          },
          "metadata": {},
          "execution_count": 625
        }
      ]
    },
    {
      "cell_type": "code",
      "source": [
        "# predicting the output\n",
        "pred_lrc = lrc.predict(X_test)"
      ],
      "metadata": {
        "id": "-c0E_9Mkyk5r"
      },
      "id": "-c0E_9Mkyk5r",
      "execution_count": 626,
      "outputs": []
    },
    {
      "cell_type": "code",
      "source": [
        "# model evaluation\n",
        "print(f\"The test accuracy score: {metrics.accuracy_score(y_test, pred_lrc)}\")\n",
        "print('======================================')\n",
        "print(f'r2 Score: {metrics.r2_score(y_test, pred_lrc)}')\n",
        "print('======================================')\n",
        "print(metrics.classification_report(y_test, pred_lrc))"
      ],
      "metadata": {
        "colab": {
          "base_uri": "https://localhost:8080/"
        },
        "id": "Q1MuIJW4ylBH",
        "outputId": "3ca885cb-8bd6-478f-94ca-9231921e2cd5"
      },
      "id": "Q1MuIJW4ylBH",
      "execution_count": 627,
      "outputs": [
        {
          "output_type": "stream",
          "name": "stdout",
          "text": [
            "The test accuracy score: 0.96\n",
            "======================================\n",
            "r2 Score: 0.8015873015873016\n",
            "======================================\n",
            "              precision    recall  f1-score   support\n",
            "\n",
            "           0       0.88      1.00      0.93        21\n",
            "           1       1.00      0.94      0.97        54\n",
            "\n",
            "    accuracy                           0.96        75\n",
            "   macro avg       0.94      0.97      0.95        75\n",
            "weighted avg       0.96      0.96      0.96        75\n",
            "\n"
          ]
        }
      ]
    },
    {
      "cell_type": "code",
      "source": [
        "cm = metrics.confusion_matrix(y_test, pred_lrc)\n",
        "sns.heatmap(cm, annot=True)\n",
        "plt.xlabel('Predicted Values')\n",
        "plt.ylabel('Actual Values')\n",
        "plt.title('Logistic Regression: Confusion Matrix')\n",
        "plt.show()"
      ],
      "metadata": {
        "colab": {
          "base_uri": "https://localhost:8080/",
          "height": 295
        },
        "id": "_P-lB_Dxhe25",
        "outputId": "bc5210e2-5403-4bf9-ceb7-50a53ae4d31f"
      },
      "id": "_P-lB_Dxhe25",
      "execution_count": 628,
      "outputs": [
        {
          "output_type": "display_data",
          "data": {
            "text/plain": [
              "<Figure size 432x288 with 2 Axes>"
            ],
            "image/png": "[encoded data removed]"
          },
          "metadata": {
            "needs_background": "light"
          }
        }
      ]
    },
    {
      "cell_type": "code",
      "source": [
        "# predict probabilities\n",
        "pred_lr = lrc.predict_proba(X_test)[:,1]\n",
        "pred_lr.shape"
      ],
      "metadata": {
        "colab": {
          "base_uri": "https://localhost:8080/"
        },
        "id": "BzFYv12ghe9x",
        "outputId": "83b3c2cb-3224-4ec9-d9af-d2866432eca9"
      },
      "id": "BzFYv12ghe9x",
      "execution_count": 629,
      "outputs": [
        {
          "output_type": "execute_result",
          "data": {
            "text/plain": [
              "(75,)"
            ]
          },
          "metadata": {},
          "execution_count": 629
        }
      ]
    },
    {
      "cell_type": "code",
      "source": [
        "# AUC-ROC curve\n",
        "\n",
        "fpr, tpr, thresholds = roc_curve(y_test, pred_lr)\n",
        "auroc = roc_auc_score(y_test, pred_lr)"
      ],
      "metadata": {
        "id": "oggl1Cu7hfFU"
      },
      "id": "oggl1Cu7hfFU",
      "execution_count": 630,
      "outputs": []
    },
    {
      "cell_type": "code",
      "source": [
        "# Plot ROC curve\n",
        "plt.plot(fpr, fpr, color = 'k')\n",
        "plt.plot(fpr, tpr, linestyle='--',color='green', label='Logistic Regression, AUC = %0.2f'%auroc)\n",
        "\n",
        "plt.title('ROC Curve for Logistic Regression')\n",
        "plt.xlabel('False Positive Rate')\n",
        "plt.ylabel('True Positive rate')\n",
        "plt.legend(loc='best')\n",
        "plt.show();"
      ],
      "metadata": {
        "colab": {
          "base_uri": "https://localhost:8080/",
          "height": 295
        },
        "id": "0pNJA2tah-FG",
        "outputId": "dfacdbfe-2df1-415d-89fe-edc98c4c3b6e"
      },
      "id": "0pNJA2tah-FG",
      "execution_count": 631,
      "outputs": [
        {
          "output_type": "display_data",
          "data": {
            "text/plain": [
              "<Figure size 432x288 with 1 Axes>"
            ],
            "image/png": "[encoded data removed]"
          },
          "metadata": {
            "needs_background": "light"
          }
        }
      ]
    },
    {
      "cell_type": "markdown",
      "source": [
        "Validation Curve"
      ],
      "metadata": {
        "id": "CwH1P5-pFCAP"
      },
      "id": "CwH1P5-pFCAP"
    },
    {
      "cell_type": "code",
      "source": [
        "from sklearn.model_selection import validation_curve\n",
        "from sklearn.preprocessing import StandardScaler\n",
        "from sklearn.pipeline import make_pipeline"
      ],
      "metadata": {
        "id": "i495Fp930ceA"
      },
      "id": "i495Fp930ceA",
      "execution_count": 632,
      "outputs": []
    },
    {
      "cell_type": "code",
      "source": [
        "# Create the pipeline having steps for standardization and estimator as LogisticRegression\n",
        "\n",
        "pipeline = make_pipeline(StandardScaler(), LogisticRegression(solver='lbfgs', max_iter=500, random_state=0))\n",
        "\n",
        "# Get Training and test scores using validation curve method\n",
        "# Pay attention to the parameter values range set as param_range\n",
        "\n",
        "param_range = [100, 200, 400, 500, 800]\n",
        "train_scores, test_scores = validation_curve(estimator=pipeline, X=X_train, y=y_train, cv=10, \n",
        "                                             param_name='logisticregression__max_iter', param_range=param_range)\n",
        "\n",
        "# Find the mean of training and test scores out of 10-fod StratifiedKFold cross validation\n",
        "\n",
        "train_mean = np.mean(train_scores, axis=1)\n",
        "test_mean = np.mean(test_scores, axis=1)\n",
        "\n",
        "# Plot the model scores (accuracy) against the paramater range\n",
        "plt.plot(param_range, train_mean,\n",
        "         marker='o', markersize=5,\n",
        "         color='blue', label='Training Accuracy')\n",
        "plt.plot(param_range, test_mean,\n",
        "         marker='o', markersize=5,\n",
        "         color='green', label='Test Accuracy')\n",
        "\n",
        "plt.title(\"Validation Curve of Maximum Iteration for Logistic Regression\")\n",
        "plt.xlabel('Value of max_iter')\n",
        "plt.ylabel('Accuracy')\n",
        "plt.legend(loc='best')\n",
        "plt.grid()\n",
        "plt.show()"
      ],
      "metadata": {
        "colab": {
          "base_uri": "https://localhost:8080/",
          "height": 296
        },
        "id": "pH6qP1vr0cjX",
        "outputId": "f6664934-8feb-4a85-90a5-554e49c6f177"
      },
      "id": "pH6qP1vr0cjX",
      "execution_count": 633,
      "outputs": [
        {
          "output_type": "display_data",
          "data": {
            "text/plain": [
              "<Figure size 432x288 with 1 Axes>"
            ],
            "image/png": "[encoded data removed]"
          },
          "metadata": {
            "needs_background": "light"
          }
        }
      ]
    },
    {
      "cell_type": "markdown",
      "source": [
        "Support Vector Machine"
      ],
      "metadata": {
        "id": "5XLVASI7yyLt"
      },
      "id": "5XLVASI7yyLt"
    },
    {
      "cell_type": "code",
      "source": [
        "# using GridSearchCV to find optimal hyperparameter for SVM\n",
        "from sklearn.model_selection import GridSearchCV\n",
        " \n",
        "# defining parameter range\n",
        "param_grid = {'C': [0.1, 1, 10, 100, 1000],\n",
        "              'gamma': [1, 0.1, 0.01, 0.001, 0.0001],\n",
        "              'kernel': ['rbf']}\n",
        " \n",
        "grid = GridSearchCV(SVC(), param_grid, cv = 3, refit = True, verbose = 3)\n",
        " \n",
        "# fitting the model for grid search\n",
        "grid.fit(X_train, y_train)"
      ],
      "metadata": {
        "colab": {
          "base_uri": "https://localhost:8080/"
        },
        "id": "nU0dK1jEokaR",
        "outputId": "93c16c07-aa69-42ed-9c59-12cae37e8592"
      },
      "id": "nU0dK1jEokaR",
      "execution_count": 634,
      "outputs": [
        {
          "output_type": "stream",
          "name": "stdout",
          "text": [
            "Fitting 3 folds for each of 25 candidates, totalling 75 fits\n",
            "[CV 1/3] END ........C=0.1, gamma=1, kernel=rbf;, score=0.627 total time=   0.0s\n",
            "[CV 2/3] END ........C=0.1, gamma=1, kernel=rbf;, score=0.627 total time=   0.0s\n",
            "[CV 3/3] END ........C=0.1, gamma=1, kernel=rbf;, score=0.627 total time=   0.0s\n",
            "[CV 1/3] END ......C=0.1, gamma=0.1, kernel=rbf;, score=0.627 total time=   0.0s\n",
            "[CV 2/3] END ......C=0.1, gamma=0.1, kernel=rbf;, score=0.627 total time=   0.0s\n",
            "[CV 3/3] END ......C=0.1, gamma=0.1, kernel=rbf;, score=0.627 total time=   0.0s\n",
            "[CV 1/3] END .....C=0.1, gamma=0.01, kernel=rbf;, score=0.627 total time=   0.0s\n",
            "[CV 2/3] END .....C=0.1, gamma=0.01, kernel=rbf;, score=0.627 total time=   0.0s\n",
            "[CV 3/3] END .....C=0.1, gamma=0.01, kernel=rbf;, score=0.627 total time=   0.0s\n",
            "[CV 1/3] END ....C=0.1, gamma=0.001, kernel=rbf;, score=0.613 total time=   0.0s\n",
            "[CV 2/3] END ....C=0.1, gamma=0.001, kernel=rbf;, score=0.627 total time=   0.0s\n",
            "[CV 3/3] END ....C=0.1, gamma=0.001, kernel=rbf;, score=0.627 total time=   0.0s\n",
            "[CV 1/3] END ...C=0.1, gamma=0.0001, kernel=rbf;, score=0.627 total time=   0.0s\n",
            "[CV 2/3] END ...C=0.1, gamma=0.0001, kernel=rbf;, score=0.627 total time=   0.0s\n",
            "[CV 3/3] END ...C=0.1, gamma=0.0001, kernel=rbf;, score=0.627 total time=   0.0s\n",
            "[CV 1/3] END ..........C=1, gamma=1, kernel=rbf;, score=0.707 total time=   0.0s\n",
            "[CV 2/3] END ..........C=1, gamma=1, kernel=rbf;, score=0.707 total time=   0.0s\n",
            "[CV 3/3] END ..........C=1, gamma=1, kernel=rbf;, score=0.707 total time=   0.0s\n",
            "[CV 1/3] END ........C=1, gamma=0.1, kernel=rbf;, score=0.787 total time=   0.0s\n",
            "[CV 2/3] END ........C=1, gamma=0.1, kernel=rbf;, score=0.787 total time=   0.0s\n",
            "[CV 3/3] END ........C=1, gamma=0.1, kernel=rbf;, score=0.813 total time=   0.0s\n",
            "[CV 1/3] END .......C=1, gamma=0.01, kernel=rbf;, score=0.840 total time=   0.0s\n",
            "[CV 2/3] END .......C=1, gamma=0.01, kernel=rbf;, score=0.813 total time=   0.0s\n",
            "[CV 3/3] END .......C=1, gamma=0.01, kernel=rbf;, score=0.747 total time=   0.0s\n",
            "[CV 1/3] END ......C=1, gamma=0.001, kernel=rbf;, score=0.707 total time=   0.0s\n",
            "[CV 2/3] END ......C=1, gamma=0.001, kernel=rbf;, score=0.720 total time=   0.0s\n",
            "[CV 3/3] END ......C=1, gamma=0.001, kernel=rbf;, score=0.760 total time=   0.0s\n",
            "[CV 1/3] END .....C=1, gamma=0.0001, kernel=rbf;, score=0.640 total time=   0.0s\n",
            "[CV 2/3] END .....C=1, gamma=0.0001, kernel=rbf;, score=0.667 total time=   0.0s\n",
            "[CV 3/3] END .....C=1, gamma=0.0001, kernel=rbf;, score=0.760 total time=   0.0s\n",
            "[CV 1/3] END .........C=10, gamma=1, kernel=rbf;, score=0.707 total time=   0.0s\n",
            "[CV 2/3] END .........C=10, gamma=1, kernel=rbf;, score=0.720 total time=   0.0s\n",
            "[CV 3/3] END .........C=10, gamma=1, kernel=rbf;, score=0.747 total time=   0.0s\n",
            "[CV 1/3] END .......C=10, gamma=0.1, kernel=rbf;, score=0.787 total time=   0.0s\n",
            "[CV 2/3] END .......C=10, gamma=0.1, kernel=rbf;, score=0.773 total time=   0.0s\n",
            "[CV 3/3] END .......C=10, gamma=0.1, kernel=rbf;, score=0.813 total time=   0.0s\n",
            "[CV 1/3] END ......C=10, gamma=0.01, kernel=rbf;, score=0.800 total time=   0.0s\n",
            "[CV 2/3] END ......C=10, gamma=0.01, kernel=rbf;, score=0.853 total time=   0.0s\n",
            "[CV 3/3] END ......C=10, gamma=0.01, kernel=rbf;, score=0.760 total time=   0.0s\n",
            "[CV 1/3] END .....C=10, gamma=0.001, kernel=rbf;, score=0.747 total time=   0.0s\n",
            "[CV 2/3] END .....C=10, gamma=0.001, kernel=rbf;, score=0.827 total time=   0.0s\n",
            "[CV 3/3] END .....C=10, gamma=0.001, kernel=rbf;, score=0.707 total time=   0.0s\n",
            "[CV 1/3] END ....C=10, gamma=0.0001, kernel=rbf;, score=0.680 total time=   0.0s\n",
            "[CV 2/3] END ....C=10, gamma=0.0001, kernel=rbf;, score=0.680 total time=   0.0s\n",
            "[CV 3/3] END ....C=10, gamma=0.0001, kernel=rbf;, score=0.747 total time=   0.0s\n",
            "[CV 1/3] END ........C=100, gamma=1, kernel=rbf;, score=0.707 total time=   0.0s\n",
            "[CV 2/3] END ........C=100, gamma=1, kernel=rbf;, score=0.720 total time=   0.0s\n",
            "[CV 3/3] END ........C=100, gamma=1, kernel=rbf;, score=0.747 total time=   0.0s\n",
            "[CV 1/3] END ......C=100, gamma=0.1, kernel=rbf;, score=0.787 total time=   0.0s\n",
            "[CV 2/3] END ......C=100, gamma=0.1, kernel=rbf;, score=0.773 total time=   0.0s\n",
            "[CV 3/3] END ......C=100, gamma=0.1, kernel=rbf;, score=0.813 total time=   0.0s\n",
            "[CV 1/3] END .....C=100, gamma=0.01, kernel=rbf;, score=0.813 total time=   0.0s\n",
            "[CV 2/3] END .....C=100, gamma=0.01, kernel=rbf;, score=0.853 total time=   0.0s\n",
            "[CV 3/3] END .....C=100, gamma=0.01, kernel=rbf;, score=0.787 total time=   0.0s\n",
            "[CV 1/3] END ....C=100, gamma=0.001, kernel=rbf;, score=0.840 total time=   0.0s\n",
            "[CV 2/3] END ....C=100, gamma=0.001, kernel=rbf;, score=0.907 total time=   0.0s\n",
            "[CV 3/3] END ....C=100, gamma=0.001, kernel=rbf;, score=0.800 total time=   0.0s\n",
            "[CV 1/3] END ...C=100, gamma=0.0001, kernel=rbf;, score=0.773 total time=   0.0s\n",
            "[CV 2/3] END ...C=100, gamma=0.0001, kernel=rbf;, score=0.787 total time=   0.0s\n",
            "[CV 3/3] END ...C=100, gamma=0.0001, kernel=rbf;, score=0.867 total time=   0.0s\n",
            "[CV 1/3] END .......C=1000, gamma=1, kernel=rbf;, score=0.707 total time=   0.0s\n",
            "[CV 2/3] END .......C=1000, gamma=1, kernel=rbf;, score=0.720 total time=   0.0s\n",
            "[CV 3/3] END .......C=1000, gamma=1, kernel=rbf;, score=0.747 total time=   0.0s\n",
            "[CV 1/3] END .....C=1000, gamma=0.1, kernel=rbf;, score=0.787 total time=   0.0s\n",
            "[CV 2/3] END .....C=1000, gamma=0.1, kernel=rbf;, score=0.773 total time=   0.0s\n",
            "[CV 3/3] END .....C=1000, gamma=0.1, kernel=rbf;, score=0.813 total time=   0.0s\n",
            "[CV 1/3] END ....C=1000, gamma=0.01, kernel=rbf;, score=0.813 total time=   0.0s\n",
            "[CV 2/3] END ....C=1000, gamma=0.01, kernel=rbf;, score=0.853 total time=   0.0s\n",
            "[CV 3/3] END ....C=1000, gamma=0.01, kernel=rbf;, score=0.787 total time=   0.0s\n",
            "[CV 1/3] END ...C=1000, gamma=0.001, kernel=rbf;, score=0.840 total time=   0.0s\n",
            "[CV 2/3] END ...C=1000, gamma=0.001, kernel=rbf;, score=0.867 total time=   0.0s\n",
            "[CV 3/3] END ...C=1000, gamma=0.001, kernel=rbf;, score=0.813 total time=   0.0s\n",
            "[CV 1/3] END ..C=1000, gamma=0.0001, kernel=rbf;, score=0.893 total time=   0.0s\n",
            "[CV 2/3] END ..C=1000, gamma=0.0001, kernel=rbf;, score=0.893 total time=   0.0s\n",
            "[CV 3/3] END ..C=1000, gamma=0.0001, kernel=rbf;, score=0.933 total time=   0.0s\n"
          ]
        },
        {
          "output_type": "execute_result",
          "data": {
            "text/plain": [
              "GridSearchCV(cv=3, estimator=SVC(),\n",
              "             param_grid={'C': [0.1, 1, 10, 100, 1000],\n",
              "                         'gamma': [1, 0.1, 0.01, 0.001, 0.0001],\n",
              "                         'kernel': ['rbf']},\n",
              "             verbose=3)"
            ]
          },
          "metadata": {},
          "execution_count": 634
        }
      ]
    },
    {
      "cell_type": "code",
      "source": [
        "# print best parameter after tuning\n",
        "print(grid.best_params_)\n",
        " \n",
        "# print how our model looks after hyper-parameter tuning\n",
        "print(grid.best_estimator_)"
      ],
      "metadata": {
        "colab": {
          "base_uri": "https://localhost:8080/"
        },
        "id": "UauaDga5okfe",
        "outputId": "8363c32d-0d94-4eba-c7d0-9cb33a62e460"
      },
      "id": "UauaDga5okfe",
      "execution_count": 635,
      "outputs": [
        {
          "output_type": "stream",
          "name": "stdout",
          "text": [
            "{'C': 1000, 'gamma': 0.0001, 'kernel': 'rbf'}\n",
            "SVC(C=1000, gamma=0.0001)\n"
          ]
        }
      ]
    },
    {
      "cell_type": "code",
      "source": [
        "# creating instance keeping all parameter default\n",
        "svc_c = SVC(C=1000, gamma=0.0001, probability=True)\n",
        "\n",
        "# fitting data\n",
        "svc_c.fit(X_train, y_train)"
      ],
      "metadata": {
        "colab": {
          "base_uri": "https://localhost:8080/"
        },
        "id": "eiXvsoWvy1LH",
        "outputId": "5458fa30-cd7f-4f2b-9b6c-035e907c7455"
      },
      "id": "eiXvsoWvy1LH",
      "execution_count": 636,
      "outputs": [
        {
          "output_type": "execute_result",
          "data": {
            "text/plain": [
              "SVC(C=1000, gamma=0.0001, probability=True)"
            ]
          },
          "metadata": {},
          "execution_count": 636
        }
      ]
    },
    {
      "cell_type": "code",
      "source": [
        "# predicting the output\n",
        "svc_c_pred = svc_c.predict(X_test)"
      ],
      "metadata": {
        "id": "eWXQ7PmNy1at"
      },
      "id": "eWXQ7PmNy1at",
      "execution_count": 637,
      "outputs": []
    },
    {
      "cell_type": "code",
      "source": [
        "# model evaluation\n",
        "print(f\"The test accuracy score: {metrics.accuracy_score(y_test, svc_c_pred)}\")\n",
        "print('======================================')\n",
        "print(f'r2 Score: {metrics.r2_score(y_test, svc_c_pred)}')\n",
        "print('======================================')\n",
        "print(metrics.classification_report(y_test, svc_c_pred))"
      ],
      "metadata": {
        "colab": {
          "base_uri": "https://localhost:8080/"
        },
        "id": "vNYjG147y2Bj",
        "outputId": "e9bdc437-2b43-497c-9cc3-3c86d758540e"
      },
      "id": "vNYjG147y2Bj",
      "execution_count": 638,
      "outputs": [
        {
          "output_type": "stream",
          "name": "stdout",
          "text": [
            "The test accuracy score: 0.92\n",
            "======================================\n",
            "r2 Score: 0.6031746031746031\n",
            "======================================\n",
            "              precision    recall  f1-score   support\n",
            "\n",
            "           0       0.80      0.95      0.87        21\n",
            "           1       0.98      0.91      0.94        54\n",
            "\n",
            "    accuracy                           0.92        75\n",
            "   macro avg       0.89      0.93      0.91        75\n",
            "weighted avg       0.93      0.92      0.92        75\n",
            "\n"
          ]
        }
      ]
    },
    {
      "cell_type": "code",
      "source": [
        "cm = metrics.confusion_matrix(y_test, svc_c_pred)\n",
        "sns.heatmap(cm, annot=True)\n",
        "plt.xlabel('Predicted Values')\n",
        "plt.ylabel('Actual Values')\n",
        "plt.title('Support Vector Machine: Confusion Matrix')\n",
        "plt.show()"
      ],
      "metadata": {
        "colab": {
          "base_uri": "https://localhost:8080/",
          "height": 295
        },
        "id": "0HellOXxjqpg",
        "outputId": "d1c9509c-58e9-4d66-de20-433f6c51b14c"
      },
      "id": "0HellOXxjqpg",
      "execution_count": 639,
      "outputs": [
        {
          "output_type": "display_data",
          "data": {
            "text/plain": [
              "<Figure size 432x288 with 2 Axes>"
            ],
            "image/png": "[encoded data removed]"
          },
          "metadata": {
            "needs_background": "light"
          }
        }
      ]
    },
    {
      "cell_type": "code",
      "source": [
        "# predict probabilities\n",
        "pred_svc = svc_c.predict_proba(X_test)[:,1]\n",
        "pred_svc.shape"
      ],
      "metadata": {
        "colab": {
          "base_uri": "https://localhost:8080/"
        },
        "id": "FVafj_EtjqzW",
        "outputId": "2ad13ddd-44e2-406e-c7ea-ef1ba2e7f9a1"
      },
      "id": "FVafj_EtjqzW",
      "execution_count": 640,
      "outputs": [
        {
          "output_type": "execute_result",
          "data": {
            "text/plain": [
              "(75,)"
            ]
          },
          "metadata": {},
          "execution_count": 640
        }
      ]
    },
    {
      "cell_type": "code",
      "source": [
        "# AUC-ROC curve\n",
        "\n",
        "fpr, tpr, thresholds = roc_curve(y_test, pred_svc)\n",
        "auroc = roc_auc_score(y_test, pred_svc)"
      ],
      "metadata": {
        "id": "7wQB3Snzjq74"
      },
      "id": "7wQB3Snzjq74",
      "execution_count": 641,
      "outputs": []
    },
    {
      "cell_type": "code",
      "source": [
        "# Plot ROC curve\n",
        "plt.plot(fpr, fpr, color = 'k')\n",
        "plt.plot(fpr, tpr, linestyle='--',color='green', label='Support Vector Machine, AUC = %0.2f'%auroc)\n",
        "\n",
        "plt.title('ROC Curve for Support Vector Machine')\n",
        "plt.xlabel('False Positive Rate')\n",
        "plt.ylabel('True Positive rate')\n",
        "plt.legend(loc='best')\n",
        "plt.show();"
      ],
      "metadata": {
        "colab": {
          "base_uri": "https://localhost:8080/",
          "height": 295
        },
        "id": "bODQGPF-kDx8",
        "outputId": "f6644324-42a5-4473-a191-e5f3280383fe"
      },
      "id": "bODQGPF-kDx8",
      "execution_count": 642,
      "outputs": [
        {
          "output_type": "display_data",
          "data": {
            "text/plain": [
              "<Figure size 432x288 with 1 Axes>"
            ],
            "image/png": "[encoded data removed]"
          },
          "metadata": {
            "needs_background": "light"
          }
        }
      ]
    },
    {
      "cell_type": "markdown",
      "source": [
        "Validation Curve"
      ],
      "metadata": {
        "id": "9QMsdpUpFgGK"
      },
      "id": "9QMsdpUpFgGK"
    },
    {
      "cell_type": "code",
      "source": [
        "# Get Training and test scores using validation curve method\n",
        "# Pay attention to the parameter values range set as param_range\n",
        "\n",
        "param_range = [0.1, 1, 10, 100, 1000]\n",
        "train_scores, test_scores = validation_curve(SVC(C=1000, gamma=0.0001, probability=True), X=X_train, y=y_train, cv=10, \n",
        "                                             param_name= \"C\", param_range=param_range)\n",
        "\n",
        "# Find the mean of training and test scores out of 10-fold StratifiedKFold cross validation\n",
        "\n",
        "train_mean = np.mean(train_scores, axis=1)\n",
        "test_mean = np.mean(test_scores, axis=1)\n",
        "\n",
        "# Plot the model scores (accuracy) against the paramater range\n",
        "plt.plot(param_range, train_mean,\n",
        "         marker='o', markersize=5,\n",
        "         color='blue', label='Training Accuracy')\n",
        "plt.plot(param_range, test_mean,\n",
        "         marker='o', markersize=5,\n",
        "         color='green', label='Test Accuracy')\n",
        "\n",
        "plt.title(\"Validation Curve of C for Support Vector Machine\")\n",
        "plt.xlabel('Value of hyperparameter C')\n",
        "plt.ylabel('Accuracy')\n",
        "plt.legend(loc='best')\n",
        "plt.grid()\n",
        "plt.show()"
      ],
      "metadata": {
        "colab": {
          "base_uri": "https://localhost:8080/",
          "height": 295
        },
        "id": "zeRBKq32F7CG",
        "outputId": "77b78711-c518-48fd-f737-2bc62f50c549"
      },
      "id": "zeRBKq32F7CG",
      "execution_count": 645,
      "outputs": [
        {
          "output_type": "display_data",
          "data": {
            "text/plain": [
              "<Figure size 432x288 with 1 Axes>"
            ],
            "image/png": "[encoded data removed]"
          },
          "metadata": {
            "needs_background": "light"
          }
        }
      ]
    },
    {
      "cell_type": "code",
      "source": [
        "# Get Training and test scores using validation curve method\n",
        "# Pay attention to the parameter values range set as param_range\n",
        "\n",
        "param_range = [1, 0.1, 0.01, 0.001, 0.0001]\n",
        "train_scores, test_scores = validation_curve(SVC(C=1000, gamma=0.0001, probability=True), X=X_train, y=y_train, cv=10, \n",
        "                                             param_name= \"gamma\", param_range=param_range)\n",
        "\n",
        "# Find the mean of training and test scores out of 10-fod StratifiedKFold cross validation\n",
        "\n",
        "train_mean = np.mean(train_scores, axis=1)\n",
        "test_mean = np.mean(test_scores, axis=1)\n",
        "\n",
        "# Plot the model scores (accuracy) against the paramater range\n",
        "plt.plot(param_range, train_mean,\n",
        "         marker='o', markersize=5,\n",
        "         color='blue', label='Training Accuracy')\n",
        "plt.plot(param_range, test_mean,\n",
        "         marker='o', markersize=5,\n",
        "         color='green', label='Test Accuracy')\n",
        "\n",
        "plt.title(\"Validation Curve of gamma for Support Vector Machine\")\n",
        "plt.xlabel('Value of hyperparameter gamma')\n",
        "plt.ylabel('Accuracy')\n",
        "plt.legend(loc='best')\n",
        "plt.grid()\n",
        "plt.show()"
      ],
      "metadata": {
        "colab": {
          "base_uri": "https://localhost:8080/",
          "height": 295
        },
        "id": "yQevvzmsMCuU",
        "outputId": "d46ae50a-f846-4b8b-a61a-3a4e56807ba3"
      },
      "id": "yQevvzmsMCuU",
      "execution_count": 646,
      "outputs": [
        {
          "output_type": "display_data",
          "data": {
            "text/plain": [
              "<Figure size 432x288 with 1 Axes>"
            ],
            "image/png": "[encoded data removed]"
          },
          "metadata": {
            "needs_background": "light"
          }
        }
      ]
    },
    {
      "cell_type": "markdown",
      "source": [
        "All Model Evaluation"
      ],
      "metadata": {
        "id": "sA3skYcXgY6r"
      },
      "id": "sA3skYcXgY6r"
    },
    {
      "cell_type": "code",
      "source": [
        "# performance of each model\n",
        "performance_dict = {'Accuracy':[metrics.accuracy_score(y_test, pred_rfc),\n",
        "                                metrics.accuracy_score(y_test, pred_lrc),\n",
        "                               metrics.accuracy_score(y_test, svc_c_pred),\n",
        "                              ]}"
      ],
      "metadata": {
        "id": "NL9X_ry-gan2"
      },
      "id": "NL9X_ry-gan2",
      "execution_count": 647,
      "outputs": []
    },
    {
      "cell_type": "code",
      "source": [
        "# performance dataframe\n",
        "performance_data = pd.DataFrame(data = performance_dict, index=['Random Forest', 'Logistic Regression',\n",
        "                                                               'Support Vector Machine'])\n",
        "\n",
        "performance_data"
      ],
      "metadata": {
        "colab": {
          "base_uri": "https://localhost:8080/",
          "height": 143
        },
        "id": "rPmeJ496gakO",
        "outputId": "285237eb-5437-4906-a32a-5667d2cd9736"
      },
      "id": "rPmeJ496gakO",
      "execution_count": 648,
      "outputs": [
        {
          "output_type": "execute_result",
          "data": {
            "text/plain": [
              "                        Accuracy\n",
              "Random Forest           0.986667\n",
              "Logistic Regression     0.960000\n",
              "Support Vector Machine  0.920000"
            ],
            "text/html": [
              "\n",
              "  <div id=\"df-d4fefed7-b1e0-4c21-8a74-8fa23a1375e0\">\n",
              "    <div class=\"colab-df-container\">\n",
              "      <div>\n",
              "<style scoped>\n",
              "    .dataframe tbody tr th:only-of-type {\n",
              "        vertical-align: middle;\n",
              "    }\n",
              "\n",
              "    .dataframe tbody tr th {\n",
              "        vertical-align: top;\n",
              "    }\n",
              "\n",
              "    .dataframe thead th {\n",
              "        text-align: right;\n",
              "    }\n",
              "</style>\n",
              "<table border=\"1\" class=\"dataframe\">\n",
              "  <thead>\n",
              "    <tr style=\"text-align: right;\">\n",
              "      <th></th>\n",
              "      <th>Accuracy</th>\n",
              "    </tr>\n",
              "  </thead>\n",
              "  <tbody>\n",
              "    <tr>\n",
              "      <th>Random Forest</th>\n",
              "      <td>0.986667</td>\n",
              "    </tr>\n",
              "    <tr>\n",
              "      <th>Logistic Regression</th>\n",
              "      <td>0.960000</td>\n",
              "    </tr>\n",
              "    <tr>\n",
              "      <th>Support Vector Machine</th>\n",
              "      <td>0.920000</td>\n",
              "    </tr>\n",
              "  </tbody>\n",
              "</table>\n",
              "</div>\n",
              "      <button class=\"colab-df-convert\" onclick=\"convertToInteractive('df-d4fefed7-b1e0-4c21-8a74-8fa23a1375e0')\"\n",
              "              title=\"Convert this dataframe to an interactive table.\"\n",
              "              style=\"display:none;\">\n",
              "        \n",
              "  <svg xmlns=\"http://www.w3.org/2000/svg\" height=\"24px\"viewBox=\"0 0 24 24\"\n",
              "       width=\"24px\">\n",
              "    <path d=\"M0 0h24v24H0V0z\" fill=\"none\"/>\n",
              "    <path d=\"M18.56 5.44l.94 2.06.94-2.06 2.06-.94-2.06-.94-.94-2.06-.94 2.06-2.06.94zm-11 1L8.5 8.5l.94-2.06 2.06-.94-2.06-.94L8.5 2.5l-.94 2.06-2.06.94zm10 10l.94 2.06.94-2.06 2.06-.94-2.06-.94-.94-2.06-.94 2.06-2.06.94z\"/><path d=\"M17.41 7.96l-1.37-1.37c-.4-.4-.92-.59-1.43-.59-.52 0-1.04.2-1.43.59L10.3 9.45l-7.72 7.72c-.78.78-.78 2.05 0 2.83L4 21.41c.39.39.9.59 1.41.59.51 0 1.02-.2 1.41-.59l7.78-7.78 2.81-2.81c.8-.78.8-2.07 0-2.86zM5.41 20L4 18.59l7.72-7.72 1.47 1.35L5.41 20z\"/>\n",
              "  </svg>\n",
              "      </button>\n",
              "      \n",
              "  <style>\n",
              "    .colab-df-container {\n",
              "      display:flex;\n",
              "      flex-wrap:wrap;\n",
              "      gap: 12px;\n",
              "    }\n",
              "\n",
              "    .colab-df-convert {\n",
              "      background-color: #E8F0FE;\n",
              "      border: none;\n",
              "      border-radius: 50%;\n",
              "      cursor: pointer;\n",
              "      display: none;\n",
              "      fill: #1967D2;\n",
              "      height: 32px;\n",
              "      padding: 0 0 0 0;\n",
              "      width: 32px;\n",
              "    }\n",
              "\n",
              "    .colab-df-convert:hover {\n",
              "      background-color: #E2EBFA;\n",
              "      box-shadow: 0px 1px 2px rgba(60, 64, 67, 0.3), 0px 1px 3px 1px rgba(60, 64, 67, 0.15);\n",
              "      fill: #174EA6;\n",
              "    }\n",
              "\n",
              "    [theme=dark] .colab-df-convert {\n",
              "      background-color: #3B4455;\n",
              "      fill: #D2E3FC;\n",
              "    }\n",
              "\n",
              "    [theme=dark] .colab-df-convert:hover {\n",
              "      background-color: #434B5C;\n",
              "      box-shadow: 0px 1px 3px 1px rgba(0, 0, 0, 0.15);\n",
              "      filter: drop-shadow(0px 1px 2px rgba(0, 0, 0, 0.3));\n",
              "      fill: #FFFFFF;\n",
              "    }\n",
              "  </style>\n",
              "\n",
              "      <script>\n",
              "        const buttonEl =\n",
              "          document.querySelector('#df-d4fefed7-b1e0-4c21-8a74-8fa23a1375e0 button.colab-df-convert');\n",
              "        buttonEl.style.display =\n",
              "          google.colab.kernel.accessAllowed ? 'block' : 'none';\n",
              "\n",
              "        async function convertToInteractive(key) {\n",
              "          const element = document.querySelector('#df-d4fefed7-b1e0-4c21-8a74-8fa23a1375e0');\n",
              "          const dataTable =\n",
              "            await google.colab.kernel.invokeFunction('convertToInteractive',\n",
              "                                                     [key], {});\n",
              "          if (!dataTable) return;\n",
              "\n",
              "          const docLinkHtml = 'Like what you see? Visit the ' +\n",
              "            '<a target=\"_blank\" href=https://colab.research.google.com/notebooks/data_table.ipynb>data table notebook</a>'\n",
              "            + ' to learn more about interactive tables.';\n",
              "          element.innerHTML = '';\n",
              "          dataTable['output_type'] = 'display_data';\n",
              "          await google.colab.output.renderOutput(dataTable, element);\n",
              "          const docLink = document.createElement('div');\n",
              "          docLink.innerHTML = docLinkHtml;\n",
              "          element.appendChild(docLink);\n",
              "        }\n",
              "      </script>\n",
              "    </div>\n",
              "  </div>\n",
              "  "
            ]
          },
          "metadata": {},
          "execution_count": 648
        }
      ]
    },
    {
      "cell_type": "code",
      "source": [
        "# plot the performance\n",
        "performance_data.plot(kind = 'bar', figsize = (10,7))\n",
        "plt.axhline(y = 1, color = 'red')\n",
        "plt.title('Model vs Accuracy')\n",
        "plt.xlabel('Models')\n",
        "plt.ylabel('Accuracy')\n",
        "plt.legend(loc = (1,1))\n",
        "plt.show()"
      ],
      "metadata": {
        "colab": {
          "base_uri": "https://localhost:8080/",
          "height": 570
        },
        "id": "VtY0ACcIgagm",
        "outputId": "9867ff17-8977-4222-cc41-abfe140dce65"
      },
      "id": "VtY0ACcIgagm",
      "execution_count": 649,
      "outputs": [
        {
          "output_type": "display_data",
          "data": {
            "text/plain": [
              "<Figure size 720x504 with 1 Axes>"
            ],
            "image/png": "[encoded data removed]"
          },
          "metadata": {
            "needs_background": "light"
          }
        }
      ]
    },
    {
      "cell_type": "markdown",
      "source": [
        "Now for the final task let's see ROC curve for all other models and compare them with each other."
      ],
      "metadata": {
        "id": "j4znxY4OyX65"
      },
      "id": "j4znxY4OyX65"
    },
    {
      "cell_type": "code",
      "execution_count": 650,
      "id": "2e301635",
      "metadata": {
        "id": "2e301635",
        "outputId": "c97e673b-88b0-43d3-de95-e7d07a3b8dda",
        "colab": {
          "base_uri": "https://localhost:8080/",
          "height": 295
        }
      },
      "outputs": [
        {
          "output_type": "display_data",
          "data": {
            "text/plain": [
              "<Figure size 432x288 with 1 Axes>"
            ],
            "image/png": "[encoded data removed]"
          },
          "metadata": {
            "needs_background": "light"
          }
        }
      ],
      "source": [
        "# Predict proba\n",
        "predict_rfc = rfc_f.predict_proba(X_test)[:,1]  # random forest\n",
        "predict_log = lrc.predict_proba(X_test)[:,1]  # logistic regression\n",
        "predict_svm = svc_c.predict_proba(X_test)[:,1] # support vector machine\n",
        "\n",
        "# Calculate True Positive and False Positive rate\n",
        "fpr_rfc, tpr_rfc, thresholds_rfc = roc_curve(y_test, predict_rfc) # random forest\n",
        "fpr_log, tpr_log, thresholds_log = roc_curve(y_test, predict_log) # logistic regression\n",
        "fpr_svm, tpr_svm, thresholds_svm = roc_curve(y_test, predict_svm) # support vector machine\n",
        "\n",
        "# Calculate roc_auc_score\n",
        "auroc_rfc = roc_auc_score(y_test, predict_rfc) # random forest\n",
        "auroc_log = roc_auc_score(y_test, predict_log) # logistic regression\n",
        "auroc_svm = roc_auc_score(y_test, predict_svm) # support vector machine\n",
        "\n",
        "# plot\n",
        "plt.plot(fpr, fpr, color = 'k')\n",
        "plt.plot(fpr_rfc, tpr_rfc, linestyle='--', color='green', label='Random Forest, AUC = %0.2f'%auroc_rfc)\n",
        "plt.plot(fpr_log, tpr_log, linestyle='--', color='blue', label='Logistic Regression, AUC = %0.2f'%auroc_log)\n",
        "plt.plot(fpr_svm, tpr_svm, linestyle='--', color='red', label='Support Vector Machine, AUC = %0.2f'%auroc_svm)\n",
        "\n",
        "plt.title('Receiver Operating Characteristic Curve')\n",
        "plt.xlabel('False Positive Rate')\n",
        "plt.ylabel('True Positive rate')\n",
        "plt.legend(loc='best')\n",
        "plt.show();"
      ]
    },
    {
      "cell_type": "code",
      "source": [
        ""
      ],
      "metadata": {
        "id": "wnDBulx9qlsx"
      },
      "id": "wnDBulx9qlsx",
      "execution_count": null,
      "outputs": []
    }
  ],
  "metadata": {
    "kernelspec": {
      "display_name": "Python 3",
      "language": "python",
      "name": "python3"
    },
    "language_info": {
      "codemirror_mode": {
        "name": "ipython",
        "version": 3
      },
      "file_extension": ".py",
      "mimetype": "text/x-python",
      "name": "python",
      "nbconvert_exporter": "python",
      "pygments_lexer": "ipython3",
      "version": "3.8.8"
    },
    "colab": {
      "name": "Heart_Disease_Prediction.ipynb",
      "provenance": [],
      "collapsed_sections": []
    }
  },
  "nbformat": 4,
  "nbformat_minor": 5
}